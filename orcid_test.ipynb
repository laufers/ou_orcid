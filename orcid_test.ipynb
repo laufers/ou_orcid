{
 "cells": [
  {
   "cell_type": "code",
   "execution_count": 1,
   "metadata": {
    "collapsed": true
   },
   "outputs": [],
   "source": [
    "import pprint\n",
    "import orcid\n",
    "from requests import RequestException"
   ]
  },
  {
   "cell_type": "code",
   "execution_count": 2,
   "metadata": {
    "collapsed": false
   },
   "outputs": [],
   "source": [
    "api = orcid.PublicAPI()"
   ]
  },
  {
   "cell_type": "code",
   "execution_count": 3,
   "metadata": {
    "collapsed": true
   },
   "outputs": [],
   "source": [
    "ringgoldid= '6187'\n",
    "place = \"Oklahoma\""
   ]
  },
  {
   "cell_type": "code",
   "execution_count": 4,
   "metadata": {
    "collapsed": false
   },
   "outputs": [],
   "source": [
    "university = api.search_public('%s %s' % (ringgoldid, place), rows=10)"
   ]
  },
  {
   "cell_type": "code",
   "execution_count": 5,
   "metadata": {
    "collapsed": false
   },
   "outputs": [
    {
     "data": {
      "text/plain": [
       "{'error-desc': None,\n",
       " 'message-version': '1.2',\n",
       " 'orcid-profile': None,\n",
       " 'orcid-search-results': {'num-found': 1642,\n",
       "  'orcid-search-result': [{'orcid-profile': {'client-type': None,\n",
       "     'group-type': None,\n",
       "     'orcid': None,\n",
       "     'orcid-activities': None,\n",
       "     'orcid-bio': {'biography': None,\n",
       "      'contact-details': None,\n",
       "      'delegation': None,\n",
       "      'external-identifiers': None,\n",
       "      'keywords': None,\n",
       "      'personal-details': {'credit-name': None,\n",
       "       'family-name': {'value': 'Brewster', 'visibility': None},\n",
       "       'given-names': {'value': 'Keith', 'visibility': None},\n",
       "       'other-names': None},\n",
       "      'researcher-urls': None,\n",
       "      'scope': None},\n",
       "     'orcid-deprecated': None,\n",
       "     'orcid-history': None,\n",
       "     'orcid-id': None,\n",
       "     'orcid-identifier': {'host': 'orcid.org',\n",
       "      'path': '0000-0002-6614-8564',\n",
       "      'uri': 'http://orcid.org/0000-0002-6614-8564',\n",
       "      'value': None},\n",
       "     'orcid-internal': None,\n",
       "     'orcid-preferences': None,\n",
       "     'type': None},\n",
       "    'relevancy-score': {'value': 0.9444629}},\n",
       "   {'orcid-profile': {'client-type': None,\n",
       "     'group-type': None,\n",
       "     'orcid': None,\n",
       "     'orcid-activities': None,\n",
       "     'orcid-bio': {'biography': None,\n",
       "      'contact-details': None,\n",
       "      'delegation': None,\n",
       "      'external-identifiers': None,\n",
       "      'keywords': None,\n",
       "      'personal-details': {'credit-name': None,\n",
       "       'family-name': {'value': 'Zhao', 'visibility': None},\n",
       "       'given-names': {'value': 'Tao', 'visibility': None},\n",
       "       'other-names': None},\n",
       "      'researcher-urls': None,\n",
       "      'scope': None},\n",
       "     'orcid-deprecated': None,\n",
       "     'orcid-history': None,\n",
       "     'orcid-id': None,\n",
       "     'orcid-identifier': {'host': 'orcid.org',\n",
       "      'path': '0000-0001-7791-9750',\n",
       "      'uri': 'http://orcid.org/0000-0001-7791-9750',\n",
       "      'value': None},\n",
       "     'orcid-internal': None,\n",
       "     'orcid-preferences': None,\n",
       "     'type': None},\n",
       "    'relevancy-score': {'value': 0.8179288}},\n",
       "   {'orcid-profile': {'client-type': None,\n",
       "     'group-type': None,\n",
       "     'orcid': None,\n",
       "     'orcid-activities': None,\n",
       "     'orcid-bio': {'biography': None,\n",
       "      'contact-details': None,\n",
       "      'delegation': None,\n",
       "      'external-identifiers': None,\n",
       "      'keywords': None,\n",
       "      'personal-details': {'credit-name': None,\n",
       "       'family-name': {'value': 'Kierig', 'visibility': None},\n",
       "       'given-names': {'value': 'Andrew', 'visibility': None},\n",
       "       'other-names': None},\n",
       "      'researcher-urls': None,\n",
       "      'scope': None},\n",
       "     'orcid-deprecated': None,\n",
       "     'orcid-history': None,\n",
       "     'orcid-id': None,\n",
       "     'orcid-identifier': {'host': 'orcid.org',\n",
       "      'path': '0000-0002-2173-8851',\n",
       "      'uri': 'http://orcid.org/0000-0002-2173-8851',\n",
       "      'value': None},\n",
       "     'orcid-internal': None,\n",
       "     'orcid-preferences': None,\n",
       "     'type': None},\n",
       "    'relevancy-score': {'value': 0.8179288}},\n",
       "   {'orcid-profile': {'client-type': None,\n",
       "     'group-type': None,\n",
       "     'orcid': None,\n",
       "     'orcid-activities': None,\n",
       "     'orcid-bio': {'biography': None,\n",
       "      'contact-details': {'address': {'country': {'value': 'US',\n",
       "         'visibility': None}},\n",
       "       'email': []},\n",
       "      'delegation': None,\n",
       "      'external-identifiers': None,\n",
       "      'keywords': None,\n",
       "      'personal-details': {'credit-name': None,\n",
       "       'family-name': {'value': 'Knapp', 'visibility': None},\n",
       "       'given-names': {'value': 'Elizabeth', 'visibility': None},\n",
       "       'other-names': None},\n",
       "      'researcher-urls': None,\n",
       "      'scope': None},\n",
       "     'orcid-deprecated': None,\n",
       "     'orcid-history': None,\n",
       "     'orcid-id': None,\n",
       "     'orcid-identifier': {'host': 'orcid.org',\n",
       "      'path': '0000-0001-7715-2836',\n",
       "      'uri': 'http://orcid.org/0000-0001-7715-2836',\n",
       "      'value': None},\n",
       "     'orcid-internal': None,\n",
       "     'orcid-preferences': None,\n",
       "     'type': None},\n",
       "    'relevancy-score': {'value': 0.8179288}},\n",
       "   {'orcid-profile': {'client-type': None,\n",
       "     'group-type': None,\n",
       "     'orcid': None,\n",
       "     'orcid-activities': None,\n",
       "     'orcid-bio': {'biography': None,\n",
       "      'contact-details': None,\n",
       "      'delegation': None,\n",
       "      'external-identifiers': {'external-identifier': [{'external-id-common-name': {'value': 'ResearcherID'},\n",
       "         'external-id-orcid': None,\n",
       "         'external-id-reference': {'value': 'M-4683-2014'},\n",
       "         'external-id-source': None,\n",
       "         'external-id-url': {'value': 'http://www.researcherid.com/rid/M-4683-2014'},\n",
       "         'orcid': None,\n",
       "         'source': {'source-client-id': None,\n",
       "          'source-date': None,\n",
       "          'source-name': None,\n",
       "          'source-orcid': {'host': 'orcid.org',\n",
       "           'path': '0000-0001-7707-4137',\n",
       "           'uri': 'http://orcid.org/0000-0001-7707-4137',\n",
       "           'value': None}}}],\n",
       "       'visibility': None},\n",
       "      'keywords': None,\n",
       "      'personal-details': {'credit-name': None,\n",
       "       'family-name': {'value': 'Cox II', 'visibility': None},\n",
       "       'given-names': {'value': 'Derrell', 'visibility': None},\n",
       "       'other-names': None},\n",
       "      'researcher-urls': None,\n",
       "      'scope': None},\n",
       "     'orcid-deprecated': None,\n",
       "     'orcid-history': None,\n",
       "     'orcid-id': None,\n",
       "     'orcid-identifier': {'host': 'orcid.org',\n",
       "      'path': '0000-0002-8066-7643',\n",
       "      'uri': 'http://orcid.org/0000-0002-8066-7643',\n",
       "      'value': None},\n",
       "     'orcid-internal': None,\n",
       "     'orcid-preferences': None,\n",
       "     'type': None},\n",
       "    'relevancy-score': {'value': 0.8179288}},\n",
       "   {'orcid-profile': {'client-type': None,\n",
       "     'group-type': None,\n",
       "     'orcid': None,\n",
       "     'orcid-activities': None,\n",
       "     'orcid-bio': {'biography': None,\n",
       "      'contact-details': None,\n",
       "      'delegation': None,\n",
       "      'external-identifiers': None,\n",
       "      'keywords': None,\n",
       "      'personal-details': {'credit-name': None,\n",
       "       'family-name': {'value': 'Arms', 'visibility': None},\n",
       "       'given-names': {'value': 'Sean', 'visibility': None},\n",
       "       'other-names': None},\n",
       "      'researcher-urls': None,\n",
       "      'scope': None},\n",
       "     'orcid-deprecated': None,\n",
       "     'orcid-history': None,\n",
       "     'orcid-id': None,\n",
       "     'orcid-identifier': {'host': 'orcid.org',\n",
       "      'path': '0000-0001-9835-113X',\n",
       "      'uri': 'http://orcid.org/0000-0001-9835-113X',\n",
       "      'value': None},\n",
       "     'orcid-internal': None,\n",
       "     'orcid-preferences': None,\n",
       "     'type': None},\n",
       "    'relevancy-score': {'value': 0.8179288}},\n",
       "   {'orcid-profile': {'client-type': None,\n",
       "     'group-type': None,\n",
       "     'orcid': None,\n",
       "     'orcid-activities': None,\n",
       "     'orcid-bio': {'biography': None,\n",
       "      'contact-details': {'address': {'country': {'value': 'GB',\n",
       "         'visibility': None}},\n",
       "       'email': []},\n",
       "      'delegation': None,\n",
       "      'external-identifiers': None,\n",
       "      'keywords': None,\n",
       "      'personal-details': {'credit-name': None,\n",
       "       'family-name': {'value': 'Sadler', 'visibility': None},\n",
       "       'given-names': {'value': 'Leslie', 'visibility': None},\n",
       "       'other-names': None},\n",
       "      'researcher-urls': None,\n",
       "      'scope': None},\n",
       "     'orcid-deprecated': None,\n",
       "     'orcid-history': None,\n",
       "     'orcid-id': None,\n",
       "     'orcid-identifier': {'host': 'orcid.org',\n",
       "      'path': '0000-0001-6599-6054',\n",
       "      'uri': 'http://orcid.org/0000-0001-6599-6054',\n",
       "      'value': None},\n",
       "     'orcid-internal': None,\n",
       "     'orcid-preferences': None,\n",
       "     'type': None},\n",
       "    'relevancy-score': {'value': 0.80140334}},\n",
       "   {'orcid-profile': {'client-type': None,\n",
       "     'group-type': None,\n",
       "     'orcid': None,\n",
       "     'orcid-activities': None,\n",
       "     'orcid-bio': {'biography': None,\n",
       "      'contact-details': None,\n",
       "      'delegation': None,\n",
       "      'external-identifiers': None,\n",
       "      'keywords': None,\n",
       "      'personal-details': {'credit-name': None,\n",
       "       'family-name': {'value': 'Curtis', 'visibility': None},\n",
       "       'given-names': {'value': 'Daniel', 'visibility': None},\n",
       "       'other-names': None},\n",
       "      'researcher-urls': None,\n",
       "      'scope': None},\n",
       "     'orcid-deprecated': None,\n",
       "     'orcid-history': None,\n",
       "     'orcid-id': None,\n",
       "     'orcid-identifier': {'host': 'orcid.org',\n",
       "      'path': '0000-0002-8323-4894',\n",
       "      'uri': 'http://orcid.org/0000-0002-8323-4894',\n",
       "      'value': None},\n",
       "     'orcid-internal': None,\n",
       "     'orcid-preferences': None,\n",
       "     'type': None},\n",
       "    'relevancy-score': {'value': 0.80140334}},\n",
       "   {'orcid-profile': {'client-type': None,\n",
       "     'group-type': None,\n",
       "     'orcid': None,\n",
       "     'orcid-activities': None,\n",
       "     'orcid-bio': {'biography': None,\n",
       "      'contact-details': None,\n",
       "      'delegation': None,\n",
       "      'external-identifiers': None,\n",
       "      'keywords': None,\n",
       "      'personal-details': {'credit-name': None,\n",
       "       'family-name': {'value': 'Ratowt', 'visibility': None},\n",
       "       'given-names': {'value': 'Sylwester', 'visibility': None},\n",
       "       'other-names': None},\n",
       "      'researcher-urls': None,\n",
       "      'scope': None},\n",
       "     'orcid-deprecated': None,\n",
       "     'orcid-history': None,\n",
       "     'orcid-id': None,\n",
       "     'orcid-identifier': {'host': 'orcid.org',\n",
       "      'path': '0000-0003-4424-4923',\n",
       "      'uri': 'http://orcid.org/0000-0003-4424-4923',\n",
       "      'value': None},\n",
       "     'orcid-internal': None,\n",
       "     'orcid-preferences': None,\n",
       "     'type': None},\n",
       "    'relevancy-score': {'value': 0.80140334}},\n",
       "   {'orcid-profile': {'client-type': None,\n",
       "     'group-type': None,\n",
       "     'orcid': None,\n",
       "     'orcid-activities': None,\n",
       "     'orcid-bio': {'biography': None,\n",
       "      'contact-details': None,\n",
       "      'delegation': None,\n",
       "      'external-identifiers': None,\n",
       "      'keywords': None,\n",
       "      'personal-details': {'credit-name': None,\n",
       "       'family-name': {'value': 'Hoagland', 'visibility': None},\n",
       "       'given-names': {'value': 'Bruce', 'visibility': None},\n",
       "       'other-names': None},\n",
       "      'researcher-urls': None,\n",
       "      'scope': None},\n",
       "     'orcid-deprecated': None,\n",
       "     'orcid-history': None,\n",
       "     'orcid-id': None,\n",
       "     'orcid-identifier': {'host': 'orcid.org',\n",
       "      'path': '0000-0002-9505-9069',\n",
       "      'uri': 'http://orcid.org/0000-0002-9505-9069',\n",
       "      'value': None},\n",
       "     'orcid-internal': None,\n",
       "     'orcid-preferences': None,\n",
       "     'type': None},\n",
       "    'relevancy-score': {'value': 0.80140334}}]}}"
      ]
     },
     "execution_count": 5,
     "metadata": {},
     "output_type": "execute_result"
    }
   ],
   "source": [
    "university"
   ]
  },
  {
   "cell_type": "code",
   "execution_count": 6,
   "metadata": {
    "collapsed": false
   },
   "outputs": [],
   "source": [
    "ringgoldid= '6187'\n",
    "place='University of Oklahoma'"
   ]
  },
  {
   "cell_type": "code",
   "execution_count": 7,
   "metadata": {
    "collapsed": false
   },
   "outputs": [],
   "source": [
    "results = university.get('orcid-search-results').get('orcid-search-result')"
   ]
  },
  {
   "cell_type": "code",
   "execution_count": 8,
   "metadata": {
    "collapsed": false
   },
   "outputs": [],
   "source": [
    "result = results[0]"
   ]
  },
  {
   "cell_type": "code",
   "execution_count": 9,
   "metadata": {
    "collapsed": false
   },
   "outputs": [
    {
     "data": {
      "text/plain": [
       "{'orcid-profile': {'client-type': None,\n",
       "  'group-type': None,\n",
       "  'orcid': None,\n",
       "  'orcid-activities': None,\n",
       "  'orcid-bio': {'biography': None,\n",
       "   'contact-details': None,\n",
       "   'delegation': None,\n",
       "   'external-identifiers': None,\n",
       "   'keywords': None,\n",
       "   'personal-details': {'credit-name': None,\n",
       "    'family-name': {'value': 'Brewster', 'visibility': None},\n",
       "    'given-names': {'value': 'Keith', 'visibility': None},\n",
       "    'other-names': None},\n",
       "   'researcher-urls': None,\n",
       "   'scope': None},\n",
       "  'orcid-deprecated': None,\n",
       "  'orcid-history': None,\n",
       "  'orcid-id': None,\n",
       "  'orcid-identifier': {'host': 'orcid.org',\n",
       "   'path': '0000-0002-6614-8564',\n",
       "   'uri': 'http://orcid.org/0000-0002-6614-8564',\n",
       "   'value': None},\n",
       "  'orcid-internal': None,\n",
       "  'orcid-preferences': None,\n",
       "  'type': None},\n",
       " 'relevancy-score': {'value': 0.9444629}}"
      ]
     },
     "execution_count": 9,
     "metadata": {},
     "output_type": "execute_result"
    }
   ],
   "source": [
    "result"
   ]
  },
  {
   "cell_type": "code",
   "execution_count": 10,
   "metadata": {
    "collapsed": false
   },
   "outputs": [
    {
     "name": "stdout",
     "output_type": "stream",
     "text": [
      "0000-0002-6614-8564\n",
      "Keith\n",
      "Brewster\n"
     ]
    }
   ],
   "source": [
    "theid = result.get('orcid-profile').get('orcid-identifier').get('path')\n",
    "print (theid)\n",
    "fname = result.get('orcid-profile').get('orcid-bio').get('personal-details').get('given-names').get('value')\n",
    "print (fname)\n",
    "lname = result.get('orcid-profile').get('orcid-bio').get('personal-details').get('family-name').get('value')\n",
    "print (lname)"
   ]
  },
  {
   "cell_type": "code",
   "execution_count": 11,
   "metadata": {
    "collapsed": false
   },
   "outputs": [
    {
     "name": "stdout",
     "output_type": "stream",
     "text": [
      "Keith\n"
     ]
    }
   ],
   "source": [
    "fname = result.get('orcid-profile').get('orcid-bio').get('personal-details').get('given-names').get('value')\n",
    "print (fname)"
   ]
  },
  {
   "cell_type": "code",
   "execution_count": 12,
   "metadata": {
    "collapsed": false
   },
   "outputs": [
    {
     "data": {
      "text/plain": [
       "str"
      ]
     },
     "execution_count": 12,
     "metadata": {},
     "output_type": "execute_result"
    }
   ],
   "source": [
    "type(fname)"
   ]
  },
  {
   "cell_type": "code",
   "execution_count": 13,
   "metadata": {
    "collapsed": false
   },
   "outputs": [
    {
     "name": "stdout",
     "output_type": "stream",
     "text": [
      "relevancy-score\n",
      "orcid-profile\n"
     ]
    }
   ],
   "source": [
    "for key in result:\n",
    "    print (key)\n"
   ]
  },
  {
   "cell_type": "code",
   "execution_count": 14,
   "metadata": {
    "collapsed": false
   },
   "outputs": [
    {
     "name": "stdout",
     "output_type": "stream",
     "text": [
      "dict_keys(['relevancy-score', 'orcid-profile'])\n"
     ]
    }
   ],
   "source": [
    "import pprint\n",
    "pprint.pprint(result.keys())"
   ]
  },
  {
   "cell_type": "code",
   "execution_count": 15,
   "metadata": {
    "collapsed": false
   },
   "outputs": [],
   "source": [
    "r = (result['orcid-profile'])"
   ]
  },
  {
   "cell_type": "code",
   "execution_count": 16,
   "metadata": {
    "collapsed": false
   },
   "outputs": [
    {
     "name": "stdout",
     "output_type": "stream",
     "text": [
      "dict_keys(['orcid-bio', 'client-type', 'group-type', 'type', 'orcid-preferences', 'orcid', 'orcid-internal', 'orcid-history', 'orcid-activities', 'orcid-id', 'orcid-identifier', 'orcid-deprecated'])\n"
     ]
    }
   ],
   "source": [
    "pprint.pprint(r.keys())"
   ]
  },
  {
   "cell_type": "code",
   "execution_count": 17,
   "metadata": {
    "collapsed": false
   },
   "outputs": [],
   "source": [
    "theid = '0000-0001-5544-0976'\n",
    "summary = api.read_record_public(theid, 'activities')"
   ]
  },
  {
   "cell_type": "code",
   "execution_count": 18,
   "metadata": {
    "collapsed": false
   },
   "outputs": [
    {
     "data": {
      "text/plain": [
       "{'educations': {'education-summary': [{'created-date': {'value': 1392755678486},\n",
       "    'department-name': 'Physics and Astronomy ',\n",
       "    'end-date': {'day': None, 'month': None, 'year': {'value': '1982'}},\n",
       "    'last-modified-date': {'value': 1392761508155},\n",
       "    'organization': {'address': {'city': 'Lexington',\n",
       "      'country': 'US',\n",
       "      'region': 'KY'},\n",
       "     'disambiguated-organization': {'disambiguated-organization-identifier': '4530',\n",
       "      'disambiguation-source': 'RINGGOLD'},\n",
       "     'name': 'University of Kentucky'},\n",
       "    'path': '/0000-0001-5544-0976/education/123811',\n",
       "    'put-code': 123811,\n",
       "    'role-title': 'BS in Physics',\n",
       "    'source': {'source-client-id': None,\n",
       "     'source-name': {'value': 'Mark Laufersweiler'},\n",
       "     'source-orcid': {'host': 'orcid.org',\n",
       "      'path': '0000-0001-5544-0976',\n",
       "      'uri': 'http://orcid.org/0000-0001-5544-0976'}},\n",
       "    'start-date': {'day': None, 'month': None, 'year': {'value': '1978'}},\n",
       "    'visibility': 'PUBLIC'},\n",
       "   {'created-date': {'value': 1395863232090},\n",
       "    'department-name': 'Meteorology',\n",
       "    'end-date': {'day': None, 'month': None, 'year': {'value': '1985'}},\n",
       "    'last-modified-date': {'value': 1395863232090},\n",
       "    'organization': {'address': {'city': 'University Park',\n",
       "      'country': 'US',\n",
       "      'region': 'PA'},\n",
       "     'disambiguated-organization': {'disambiguated-organization-identifier': '311285',\n",
       "      'disambiguation-source': 'RINGGOLD'},\n",
       "     'name': 'Pennsylvania State University University Park'},\n",
       "    'path': '/0000-0001-5544-0976/education/191995',\n",
       "    'put-code': 191995,\n",
       "    'role-title': 'MS in Meteorology',\n",
       "    'source': {'source-client-id': None,\n",
       "     'source-name': {'value': 'Mark Laufersweiler'},\n",
       "     'source-orcid': {'host': 'orcid.org',\n",
       "      'path': '0000-0001-5544-0976',\n",
       "      'uri': 'http://orcid.org/0000-0001-5544-0976'}},\n",
       "    'start-date': {'day': None, 'month': None, 'year': {'value': '1982'}},\n",
       "    'visibility': 'PUBLIC'},\n",
       "   {'created-date': {'value': 1395863267082},\n",
       "    'department-name': 'Meteorology',\n",
       "    'end-date': {'day': None, 'month': None, 'year': {'value': '1993'}},\n",
       "    'last-modified-date': {'value': 1395863267082},\n",
       "    'organization': {'address': {'city': 'University Park',\n",
       "      'country': 'US',\n",
       "      'region': 'PA'},\n",
       "     'disambiguated-organization': {'disambiguated-organization-identifier': '311285',\n",
       "      'disambiguation-source': 'RINGGOLD'},\n",
       "     'name': 'Pennsylvania State University University Park'},\n",
       "    'path': '/0000-0001-5544-0976/education/191998',\n",
       "    'put-code': 191998,\n",
       "    'role-title': 'PhD in Meteorology',\n",
       "    'source': {'source-client-id': None,\n",
       "     'source-name': {'value': 'Mark Laufersweiler'},\n",
       "     'source-orcid': {'host': 'orcid.org',\n",
       "      'path': '0000-0001-5544-0976',\n",
       "      'uri': 'http://orcid.org/0000-0001-5544-0976'}},\n",
       "    'start-date': {'day': None, 'month': None, 'year': {'value': '1985'}},\n",
       "    'visibility': 'PUBLIC'}]},\n",
       " 'employments': {'employment-summary': [{'created-date': {'value': 1414175023832},\n",
       "    'department-name': 'Department of Meteorology',\n",
       "    'end-date': {'day': None,\n",
       "     'month': {'value': '06'},\n",
       "     'year': {'value': '1999'}},\n",
       "    'last-modified-date': {'value': 1414175023832},\n",
       "    'organization': {'address': {'city': 'Tallahassee',\n",
       "      'country': 'US',\n",
       "      'region': 'FL'},\n",
       "     'disambiguated-organization': {'disambiguated-organization-identifier': '7823',\n",
       "      'disambiguation-source': 'RINGGOLD'},\n",
       "     'name': 'Florida State University'},\n",
       "    'path': '/0000-0001-5544-0976/employment/540305',\n",
       "    'put-code': 540305,\n",
       "    'role-title': 'Computer Research Specialist',\n",
       "    'source': {'source-client-id': None,\n",
       "     'source-name': {'value': 'Mark Laufersweiler'},\n",
       "     'source-orcid': {'host': 'orcid.org',\n",
       "      'path': '0000-0001-5544-0976',\n",
       "      'uri': 'http://orcid.org/0000-0001-5544-0976'}},\n",
       "    'start-date': {'day': None,\n",
       "     'month': {'value': '02'},\n",
       "     'year': {'value': '1996'}},\n",
       "    'visibility': 'PUBLIC'},\n",
       "   {'created-date': {'value': 1414174919768},\n",
       "    'department-name': 'Regional Atmospheric Sciences Division',\n",
       "    'end-date': {'day': None,\n",
       "     'month': {'value': '02'},\n",
       "     'year': {'value': '1996'}},\n",
       "    'last-modified-date': {'value': 1414174919768},\n",
       "    'organization': {'address': {'city': 'Livermore',\n",
       "      'country': 'US',\n",
       "      'region': 'CA'},\n",
       "     'disambiguated-organization': {'disambiguated-organization-identifier': '4578',\n",
       "      'disambiguation-source': 'RINGGOLD'},\n",
       "     'name': 'Lawrence Livermore National Laboratory'},\n",
       "    'path': '/0000-0001-5544-0976/employment/540303',\n",
       "    'put-code': 540303,\n",
       "    'role-title': 'Atmospheric Radiation Measurement/Post-Doctorate ',\n",
       "    'source': {'source-client-id': None,\n",
       "     'source-name': {'value': 'Mark Laufersweiler'},\n",
       "     'source-orcid': {'host': 'orcid.org',\n",
       "      'path': '0000-0001-5544-0976',\n",
       "      'uri': 'http://orcid.org/0000-0001-5544-0976'}},\n",
       "    'start-date': {'day': None,\n",
       "     'month': {'value': '07'},\n",
       "     'year': {'value': '1994'}},\n",
       "    'visibility': 'PUBLIC'},\n",
       "   {'created-date': {'value': 1407258430572},\n",
       "    'department-name': 'School of Meteorology',\n",
       "    'end-date': {'day': None,\n",
       "     'month': {'value': '09'},\n",
       "     'year': {'value': '2013'}},\n",
       "    'last-modified-date': {'value': 1407258430572},\n",
       "    'organization': {'address': {'city': 'Norman',\n",
       "      'country': 'US',\n",
       "      'region': 'OK'},\n",
       "     'disambiguated-organization': {'disambiguated-organization-identifier': '6187',\n",
       "      'disambiguation-source': 'RINGGOLD'},\n",
       "     'name': 'University of Oklahoma'},\n",
       "    'path': '/0000-0001-5544-0976/employment/389355',\n",
       "    'put-code': 389355,\n",
       "    'role-title': 'Computer Systems Coordinator',\n",
       "    'source': {'source-client-id': None,\n",
       "     'source-name': {'value': 'Mark Laufersweiler'},\n",
       "     'source-orcid': {'host': 'orcid.org',\n",
       "      'path': '0000-0001-5544-0976',\n",
       "      'uri': 'http://orcid.org/0000-0001-5544-0976'}},\n",
       "    'start-date': {'day': None,\n",
       "     'month': {'value': '07'},\n",
       "     'year': {'value': '1999'}},\n",
       "    'visibility': 'PUBLIC'},\n",
       "   {'created-date': {'value': 1407258554933},\n",
       "    'department-name': 'OU Libraries',\n",
       "    'end-date': None,\n",
       "    'last-modified-date': {'value': 1407258554933},\n",
       "    'organization': {'address': {'city': 'Norman',\n",
       "      'country': 'US',\n",
       "      'region': 'OK'},\n",
       "     'disambiguated-organization': {'disambiguated-organization-identifier': '6187',\n",
       "      'disambiguation-source': 'RINGGOLD'},\n",
       "     'name': 'University of Oklahoma'},\n",
       "    'path': '/0000-0001-5544-0976/employment/389358',\n",
       "    'put-code': 389358,\n",
       "    'role-title': 'Research Data Specialist',\n",
       "    'source': {'source-client-id': None,\n",
       "     'source-name': {'value': 'Mark Laufersweiler'},\n",
       "     'source-orcid': {'host': 'orcid.org',\n",
       "      'path': '0000-0001-5544-0976',\n",
       "      'uri': 'http://orcid.org/0000-0001-5544-0976'}},\n",
       "    'start-date': {'day': None,\n",
       "     'month': {'value': '10'},\n",
       "     'year': {'value': '2013'}},\n",
       "    'visibility': 'PUBLIC'}]},\n",
       " 'fundings': {'group': [{'identifiers': None,\n",
       "    'summary': [{'created-date': {'value': 1416843086792},\n",
       "      'display-index': '0',\n",
       "      'end-date': None,\n",
       "      'external-identifiers': None,\n",
       "      'last-modified-date': {'value': 1416843086792},\n",
       "      'path': '/0000-0001-5544-0976/funding/51841',\n",
       "      'put-code': 51841,\n",
       "      'source': {'source-client-id': None,\n",
       "       'source-name': {'value': 'Mark Laufersweiler'},\n",
       "       'source-orcid': {'host': 'orcid.org',\n",
       "        'path': '0000-0001-5544-0976',\n",
       "        'uri': 'http://orcid.org/0000-0001-5544-0976'}},\n",
       "      'start-date': {'day': None, 'month': None, 'year': {'value': '2004'}},\n",
       "      'title': {'title': {'value': 'Real Time and Archival DODS/ADDE Server for the OU School of Meteorology and Unidata Community'},\n",
       "       'translated-title': None},\n",
       "      'type': 'GRANT',\n",
       "      'visibility': 'PUBLIC'}]}]},\n",
       " 'peer-reviews': {'group': None},\n",
       " 'works': {'group': [{'identifiers': None,\n",
       "    'work-summary': [{'created-date': {'value': 1442335952888},\n",
       "      'display-index': '2',\n",
       "      'external-identifiers': {'work-external-identifier': []},\n",
       "      'last-modified-date': {'value': 1442335952905},\n",
       "      'path': '/0000-0001-5544-0976/work/18502574',\n",
       "      'publication-date': {'day': {'value': '00'},\n",
       "       'media-type': None,\n",
       "       'month': {'value': '00'},\n",
       "       'year': {'value': '2004'}},\n",
       "      'put-code': 18502574,\n",
       "      'source': {'source-client-id': None,\n",
       "       'source-name': {'value': 'Mark Laufersweiler'},\n",
       "       'source-orcid': {'host': 'orcid.org',\n",
       "        'path': '0000-0001-5544-0976',\n",
       "        'uri': 'http://orcid.org/0000-0001-5544-0976'}},\n",
       "      'title': {'subtitle': None,\n",
       "       'title': {'value': 'Leveraging the Internet to enhance the skills of entry-level Meteorology Majors: Three Years Later'},\n",
       "       'translated-title': None},\n",
       "      'type': 'CONFERENCE_PAPER',\n",
       "      'visibility': 'PUBLIC'}]},\n",
       "   {'identifiers': None,\n",
       "    'work-summary': [{'created-date': {'value': 1442334404626},\n",
       "      'display-index': '1',\n",
       "      'external-identifiers': {'work-external-identifier': []},\n",
       "      'last-modified-date': {'value': 1442334404626},\n",
       "      'path': '/0000-0001-5544-0976/work/18502569',\n",
       "      'publication-date': {'day': {'value': '00'},\n",
       "       'media-type': None,\n",
       "       'month': {'value': '00'},\n",
       "       'year': {'value': '1995'}},\n",
       "      'put-code': 18502569,\n",
       "      'source': {'source-client-id': None,\n",
       "       'source-name': {'value': 'Mark Laufersweiler'},\n",
       "       'source-orcid': {'host': 'orcid.org',\n",
       "        'path': '0000-0001-5544-0976',\n",
       "        'uri': 'http://orcid.org/0000-0001-5544-0976'}},\n",
       "      'title': {'subtitle': None,\n",
       "       'title': {'value': 'Data management and scientific integration within the Atmospheric Radiation Measurement Program'},\n",
       "       'translated-title': None},\n",
       "      'type': 'CONFERENCE_PAPER',\n",
       "      'visibility': 'PUBLIC'}]},\n",
       "   {'identifiers': {'identifier': [{'external-identifier-id': '2-s2.0-15044341866',\n",
       "       'external-identifier-type': 'eid'},\n",
       "      {'external-identifier-id': '10.1175/BAMS-86-2-167',\n",
       "       'external-identifier-type': 'doi'}]},\n",
       "    'work-summary': [{'created-date': {'value': 1414175245463},\n",
       "      'display-index': '0',\n",
       "      'external-identifiers': {'work-external-identifier': [{'external-identifier-id': {'value': '10.1175/BAMS-86-2-167'},\n",
       "         'external-identifier-type': 'DOI',\n",
       "         'external-identifier-url': {'value': ''},\n",
       "         'relationship': 'SELF'},\n",
       "        {'external-identifier-id': {'value': '2-s2.0-15044341866'},\n",
       "         'external-identifier-type': 'EID',\n",
       "         'external-identifier-url': {'value': ''},\n",
       "         'relationship': 'SELF'}]},\n",
       "      'last-modified-date': {'value': 1437662498172},\n",
       "      'path': '/0000-0001-5544-0976/work/14187126',\n",
       "      'publication-date': {'day': {'value': '00'},\n",
       "       'media-type': None,\n",
       "       'month': {'value': '00'},\n",
       "       'year': {'value': '2005'}},\n",
       "      'put-code': 14187126,\n",
       "      'source': {'source-client-id': None,\n",
       "       'source-name': {'value': 'Scopus to ORCID'},\n",
       "       'source-orcid': {'host': 'orcid.org',\n",
       "        'path': '0000-0002-5982-8983',\n",
       "        'uri': 'http://orcid.org/0000-0002-5982-8983'}},\n",
       "      'title': {'subtitle': None,\n",
       "       'title': {'value': 'Expanding horizons'},\n",
       "       'translated-title': None},\n",
       "      'type': 'JOURNAL_ARTICLE',\n",
       "      'visibility': 'PUBLIC'}]},\n",
       "   {'identifiers': {'identifier': [{'external-identifier-id': '10.1007/BF00712679',\n",
       "       'external-identifier-type': 'doi'},\n",
       "      {'external-identifier-id': '2-s2.0-0028826781',\n",
       "       'external-identifier-type': 'eid'}]},\n",
       "    'work-summary': [{'created-date': {'value': 1414175245470},\n",
       "      'display-index': '0',\n",
       "      'external-identifiers': {'work-external-identifier': [{'external-identifier-id': {'value': '10.1007/BF00712679'},\n",
       "         'external-identifier-type': 'DOI',\n",
       "         'external-identifier-url': {'value': ''},\n",
       "         'relationship': 'SELF'},\n",
       "        {'external-identifier-id': {'value': '2-s2.0-0028826781'},\n",
       "         'external-identifier-type': 'EID',\n",
       "         'external-identifier-url': {'value': ''},\n",
       "         'relationship': 'SELF'}]},\n",
       "      'last-modified-date': {'value': 1437662498214},\n",
       "      'path': '/0000-0001-5544-0976/work/14187127',\n",
       "      'publication-date': {'day': {'value': '00'},\n",
       "       'media-type': None,\n",
       "       'month': {'value': '00'},\n",
       "       'year': {'value': '1995'}},\n",
       "      'put-code': 14187127,\n",
       "      'source': {'source-client-id': None,\n",
       "       'source-name': {'value': 'Scopus to ORCID'},\n",
       "       'source-orcid': {'host': 'orcid.org',\n",
       "        'path': '0000-0002-5982-8983',\n",
       "        'uri': 'http://orcid.org/0000-0002-5982-8983'}},\n",
       "      'title': {'subtitle': None,\n",
       "       'title': {'value': 'A theoretical model of multi-regime convection in a stratocumulus-topped boundary layer'},\n",
       "       'translated-title': None},\n",
       "      'type': 'JOURNAL_ARTICLE',\n",
       "      'visibility': 'PUBLIC'}]},\n",
       "   {'identifiers': {'identifier': [{'external-identifier-id': '2-s2.0-0024794585',\n",
       "       'external-identifier-type': 'eid'}]},\n",
       "    'work-summary': [{'created-date': {'value': 1414175245474},\n",
       "      'display-index': '0',\n",
       "      'external-identifiers': {'work-external-identifier': [{'external-identifier-id': {'value': '2-s2.0-0024794585'},\n",
       "         'external-identifier-type': 'EID',\n",
       "         'external-identifier-url': {'value': ''},\n",
       "         'relationship': 'SELF'}]},\n",
       "      'last-modified-date': {'value': 1437662498264},\n",
       "      'path': '/0000-0001-5544-0976/work/14187128',\n",
       "      'publication-date': {'day': {'value': '00'},\n",
       "       'media-type': None,\n",
       "       'month': {'value': '00'},\n",
       "       'year': {'value': '1989'}},\n",
       "      'put-code': 14187128,\n",
       "      'source': {'source-client-id': None,\n",
       "       'source-name': {'value': 'Scopus to ORCID'},\n",
       "       'source-orcid': {'host': 'orcid.org',\n",
       "        'path': '0000-0002-5982-8983',\n",
       "        'uri': 'http://orcid.org/0000-0002-5982-8983'}},\n",
       "      'title': {'subtitle': None,\n",
       "       'title': {'value': 'A simple dynamical model of a stratocumulus-topped boundary layer'},\n",
       "       'translated-title': None},\n",
       "      'type': 'JOURNAL_ARTICLE',\n",
       "      'visibility': 'PUBLIC'}]},\n",
       "   {'identifiers': {'identifier': [{'external-identifier-id': '10.1007/3-540-17557-1_7',\n",
       "       'external-identifier-type': 'doi'}]},\n",
       "    'work-summary': [{'created-date': {'value': 1442332993099},\n",
       "      'display-index': '0',\n",
       "      'external-identifiers': {'work-external-identifier': [{'external-identifier-id': {'value': '10.1007/3-540-17557-1_7'},\n",
       "         'external-identifier-type': 'DOI',\n",
       "         'external-identifier-url': None,\n",
       "         'relationship': 'SELF'}]},\n",
       "      'last-modified-date': {'value': 1442332993099},\n",
       "      'path': '/0000-0001-5544-0976/work/18501464',\n",
       "      'publication-date': {'day': {'value': '00'},\n",
       "       'media-type': None,\n",
       "       'month': {'value': '00'},\n",
       "       'year': {'value': '1987'}},\n",
       "      'put-code': 18501464,\n",
       "      'source': {'source-client-id': None,\n",
       "       'source-name': {'value': 'CrossRef Metadata Search'},\n",
       "       'source-orcid': {'host': 'orcid.org',\n",
       "        'path': '0000-0002-3054-1567',\n",
       "        'uri': 'http://orcid.org/0000-0002-3054-1567'}},\n",
       "      'title': {'subtitle': None,\n",
       "       'title': {'value': 'The expected branching solution: Preferred wavelengths'},\n",
       "       'translated-title': None},\n",
       "      'type': 'OTHER',\n",
       "      'visibility': 'PUBLIC'}]}]}}"
      ]
     },
     "execution_count": 18,
     "metadata": {},
     "output_type": "execute_result"
    }
   ],
   "source": [
    "summary"
   ]
  },
  {
   "cell_type": "code",
   "execution_count": 19,
   "metadata": {
    "collapsed": false
   },
   "outputs": [],
   "source": [
    "employ = summary.get('employments').get('employment-summary')"
   ]
  },
  {
   "cell_type": "code",
   "execution_count": 20,
   "metadata": {
    "collapsed": false
   },
   "outputs": [
    {
     "name": "stdout",
     "output_type": "stream",
     "text": [
      "[{'created-date': {'value': 1414175023832},\n",
      "  'department-name': 'Department of Meteorology',\n",
      "  'end-date': {'day': None,\n",
      "               'month': {'value': '06'},\n",
      "               'year': {'value': '1999'}},\n",
      "  'last-modified-date': {'value': 1414175023832},\n",
      "  'organization': {'address': {'city': 'Tallahassee',\n",
      "                               'country': 'US',\n",
      "                               'region': 'FL'},\n",
      "                   'disambiguated-organization': {'disambiguated-organization-identifier': '7823',\n",
      "                                                  'disambiguation-source': 'RINGGOLD'},\n",
      "                   'name': 'Florida State University'},\n",
      "  'path': '/0000-0001-5544-0976/employment/540305',\n",
      "  'put-code': 540305,\n",
      "  'role-title': 'Computer Research Specialist',\n",
      "  'source': {'source-client-id': None,\n",
      "             'source-name': {'value': 'Mark Laufersweiler'},\n",
      "             'source-orcid': {'host': 'orcid.org',\n",
      "                              'path': '0000-0001-5544-0976',\n",
      "                              'uri': 'http://orcid.org/0000-0001-5544-0976'}},\n",
      "  'start-date': {'day': None,\n",
      "                 'month': {'value': '02'},\n",
      "                 'year': {'value': '1996'}},\n",
      "  'visibility': 'PUBLIC'},\n",
      " {'created-date': {'value': 1414174919768},\n",
      "  'department-name': 'Regional Atmospheric Sciences Division',\n",
      "  'end-date': {'day': None,\n",
      "               'month': {'value': '02'},\n",
      "               'year': {'value': '1996'}},\n",
      "  'last-modified-date': {'value': 1414174919768},\n",
      "  'organization': {'address': {'city': 'Livermore',\n",
      "                               'country': 'US',\n",
      "                               'region': 'CA'},\n",
      "                   'disambiguated-organization': {'disambiguated-organization-identifier': '4578',\n",
      "                                                  'disambiguation-source': 'RINGGOLD'},\n",
      "                   'name': 'Lawrence Livermore National Laboratory'},\n",
      "  'path': '/0000-0001-5544-0976/employment/540303',\n",
      "  'put-code': 540303,\n",
      "  'role-title': 'Atmospheric Radiation Measurement/Post-Doctorate ',\n",
      "  'source': {'source-client-id': None,\n",
      "             'source-name': {'value': 'Mark Laufersweiler'},\n",
      "             'source-orcid': {'host': 'orcid.org',\n",
      "                              'path': '0000-0001-5544-0976',\n",
      "                              'uri': 'http://orcid.org/0000-0001-5544-0976'}},\n",
      "  'start-date': {'day': None,\n",
      "                 'month': {'value': '07'},\n",
      "                 'year': {'value': '1994'}},\n",
      "  'visibility': 'PUBLIC'},\n",
      " {'created-date': {'value': 1407258430572},\n",
      "  'department-name': 'School of Meteorology',\n",
      "  'end-date': {'day': None,\n",
      "               'month': {'value': '09'},\n",
      "               'year': {'value': '2013'}},\n",
      "  'last-modified-date': {'value': 1407258430572},\n",
      "  'organization': {'address': {'city': 'Norman',\n",
      "                               'country': 'US',\n",
      "                               'region': 'OK'},\n",
      "                   'disambiguated-organization': {'disambiguated-organization-identifier': '6187',\n",
      "                                                  'disambiguation-source': 'RINGGOLD'},\n",
      "                   'name': 'University of Oklahoma'},\n",
      "  'path': '/0000-0001-5544-0976/employment/389355',\n",
      "  'put-code': 389355,\n",
      "  'role-title': 'Computer Systems Coordinator',\n",
      "  'source': {'source-client-id': None,\n",
      "             'source-name': {'value': 'Mark Laufersweiler'},\n",
      "             'source-orcid': {'host': 'orcid.org',\n",
      "                              'path': '0000-0001-5544-0976',\n",
      "                              'uri': 'http://orcid.org/0000-0001-5544-0976'}},\n",
      "  'start-date': {'day': None,\n",
      "                 'month': {'value': '07'},\n",
      "                 'year': {'value': '1999'}},\n",
      "  'visibility': 'PUBLIC'},\n",
      " {'created-date': {'value': 1407258554933},\n",
      "  'department-name': 'OU Libraries',\n",
      "  'end-date': None,\n",
      "  'last-modified-date': {'value': 1407258554933},\n",
      "  'organization': {'address': {'city': 'Norman',\n",
      "                               'country': 'US',\n",
      "                               'region': 'OK'},\n",
      "                   'disambiguated-organization': {'disambiguated-organization-identifier': '6187',\n",
      "                                                  'disambiguation-source': 'RINGGOLD'},\n",
      "                   'name': 'University of Oklahoma'},\n",
      "  'path': '/0000-0001-5544-0976/employment/389358',\n",
      "  'put-code': 389358,\n",
      "  'role-title': 'Research Data Specialist',\n",
      "  'source': {'source-client-id': None,\n",
      "             'source-name': {'value': 'Mark Laufersweiler'},\n",
      "             'source-orcid': {'host': 'orcid.org',\n",
      "                              'path': '0000-0001-5544-0976',\n",
      "                              'uri': 'http://orcid.org/0000-0001-5544-0976'}},\n",
      "  'start-date': {'day': None,\n",
      "                 'month': {'value': '10'},\n",
      "                 'year': {'value': '2013'}},\n",
      "  'visibility': 'PUBLIC'}]\n"
     ]
    }
   ],
   "source": [
    "pprint.pprint(employ)"
   ]
  },
  {
   "cell_type": "code",
   "execution_count": 21,
   "metadata": {
    "collapsed": false
   },
   "outputs": [],
   "source": [
    "id = {}\n",
    "d = {}\n",
    "id.setdefault(theid,[]).append(fname + ' ' + lname)\n",
    "d.setdefault('name',[]).append(id)"
   ]
  },
  {
   "cell_type": "code",
   "execution_count": null,
   "metadata": {
    "collapsed": true
   },
   "outputs": [],
   "source": []
  },
  {
   "cell_type": "code",
   "execution_count": null,
   "metadata": {
    "collapsed": true
   },
   "outputs": [],
   "source": []
  },
  {
   "cell_type": "code",
   "execution_count": null,
   "metadata": {
    "collapsed": true
   },
   "outputs": [],
   "source": []
  },
  {
   "cell_type": "code",
   "execution_count": null,
   "metadata": {
    "collapsed": true
   },
   "outputs": [],
   "source": []
  },
  {
   "cell_type": "code",
   "execution_count": null,
   "metadata": {
    "collapsed": true
   },
   "outputs": [],
   "source": []
  },
  {
   "cell_type": "code",
   "execution_count": null,
   "metadata": {
    "collapsed": true
   },
   "outputs": [],
   "source": []
  },
  {
   "cell_type": "code",
   "execution_count": 22,
   "metadata": {
    "collapsed": false
   },
   "outputs": [
    {
     "data": {
      "text/plain": [
       "23"
      ]
     },
     "execution_count": 22,
     "metadata": {},
     "output_type": "execute_result"
    }
   ],
   "source": [
    "import pprint\n",
    "import orcid\n",
    "import time\n",
    "from requests import RequestException\n",
    "\n",
    "def search_persons(ringgoldid, place):\n",
    "    api = orcid.PublicAPI()\n",
    "    persons = {}\n",
    "    counter = 1\n",
    "    row = 20\n",
    "    total_records = api.search_public('%s %s' % (ringgoldid, place))['orcid-search-results']['num-found']\n",
    "    print ('The total number of entries matching', ringgoldid, 'and', place, 'is', total_records)\n",
    "    total_records = 20\n",
    "\n",
    "    # define log entries\n",
    "    tmpl = '%s\\t%s\\t%s\\n'\n",
    "\n",
    "    for step in range(0, total_records, row):\n",
    "        try:\n",
    "            university = api.search_public('%s %s' % (ringgoldid, place), start=str(step), rows=row)\n",
    "            for result in university.get('orcid-search-results').get('orcid-search-result'):\n",
    "                orcid_id = result.get('orcid-profile').get('orcid-identifier').get('path')\n",
    "              #  request_log.write(tmpl % (datetime.isoformat(datetime.now()), counter, orcid_id))\n",
    "                \n",
    "                try:\n",
    "                    fname = result.get('orcid-profile').get('orcid-bio').get('personal-details').get('given-names').get('value')\n",
    "                except:\n",
    "                    fname = ''\n",
    "                try:\n",
    "                    lname = result.get('orcid-profile').get('orcid-bio').get('personal-details').get('family-name').get('value')\n",
    "                except:\n",
    "                    lname = ''\n",
    "                \n",
    "                try:\n",
    "                    summary = api.read_record_public(orcid_id, 'activities')\n",
    "                    try:\n",
    "                        for employment in summary.get('employments').get('employment-summary'):\n",
    "                            if employment.get('organization').get('disambiguated-organization').get('disambiguated-organization-identifier') == ringgoldid:\n",
    "                                if not employment.get('end-date'):\n",
    "                                    persons.setdefault(orcid_id, {}).setdefault((fname + ' ' + lname), []).append(employment.get('department-name'))\n",
    "                                request_log.write(tmpl % (datetime.isoformat(datetime.now()), counter, orcid_id))\n",
    "\n",
    "                    except AttributeError:\n",
    "                        pass\n",
    "                except RequestException as e:\n",
    "                    print (e.response.text)\n",
    "                #print ('Processing record %d' % counter)\n",
    "                counter += 1\n",
    "            # pprint.pprint(persons)\n",
    "        except RequestException as e:\n",
    "            print (e.response.text)\n",
    "        #time.sleep(3)\n",
    "    return persons\n",
    "\n",
    "# Start program run here\n",
    "# define log file\n",
    "import os\n",
    "from datetime import datetime\n",
    "if not os.path.exists('output'):\n",
    "\tos.makedirs('output')\n",
    "    \n",
    "# log \n",
    "request_log = open('output/orcid.log', 'w')\n",
    "request_log.write('Timestamp\\t\\t\\tstep\\tORCID\\n')"
   ]
  },
  {
   "cell_type": "code",
   "execution_count": 23,
   "metadata": {
    "collapsed": false
   },
   "outputs": [
    {
     "name": "stdout",
     "output_type": "stream",
     "text": [
      "The total number of entries matching 6187 and University of Oklahoma is 503469\n"
     ]
    }
   ],
   "source": [
    "tester = search_persons ('6187', 'University of Oklahoma')"
   ]
  },
  {
   "cell_type": "code",
   "execution_count": 24,
   "metadata": {
    "collapsed": false
   },
   "outputs": [
    {
     "data": {
      "text/plain": [
       "8"
      ]
     },
     "execution_count": 24,
     "metadata": {},
     "output_type": "execute_result"
    }
   ],
   "source": [
    "len (tester)"
   ]
  },
  {
   "cell_type": "code",
   "execution_count": 25,
   "metadata": {
    "collapsed": false
   },
   "outputs": [
    {
     "data": {
      "text/plain": [
       "dict_items([('0000-0002-6614-8564', {'Keith Brewster': ['Center for Analysis and Prediction of Storms']}), ('0000-0002-2173-8851', {'Andrew Kierig': ['Political Science']}), ('0000-0002-6857-919X', {'Rachel Jones-Summan': ['Modern Languages']}), ('0000-0001-7791-9750', {'Tao Zhao': ['Library']}), ('0000-0001-7715-2836', {'Elizabeth Knapp': ['Honors College', 'Department of Classics and Letters']}), ('0000-0002-9505-9069', {'Bruce Hoagland': ['Department of Geogrpahy and Environmental Sustainability']}), ('0000-0002-8323-4894', {'Daniel Curtis': ['Department of Microbiology and Plant Biology']}), ('0000-0002-4528-5391', {'Henry Neeman': ['College of Engineering', 'Information Technology', 'Computer Science', 'Information Technology']})])"
      ]
     },
     "execution_count": 25,
     "metadata": {},
     "output_type": "execute_result"
    }
   ],
   "source": [
    "tester.items()"
   ]
  },
  {
   "cell_type": "markdown",
   "metadata": {},
   "source": [
    "### Working on csv output of results"
   ]
  },
  {
   "cell_type": "code",
   "execution_count": 26,
   "metadata": {
    "collapsed": false
   },
   "outputs": [],
   "source": [
    "import csv"
   ]
  },
  {
   "cell_type": "code",
   "execution_count": 27,
   "metadata": {
    "collapsed": false
   },
   "outputs": [
    {
     "name": "stdout",
     "output_type": "stream",
     "text": [
      "0000-0002-6614-8564\n",
      "Keith Brewster\n",
      "['Center for Analysis and Prediction of Storms']\n",
      "0000-0002-2173-8851\n",
      "Andrew Kierig\n",
      "['Political Science']\n",
      "0000-0002-6857-919X\n",
      "Rachel Jones-Summan\n",
      "['Modern Languages']\n",
      "0000-0001-7791-9750\n",
      "Tao Zhao\n",
      "['Library']\n",
      "0000-0001-7715-2836\n",
      "Elizabeth Knapp\n",
      "['Honors College', 'Department of Classics and Letters']\n",
      "0000-0002-9505-9069\n",
      "Bruce Hoagland\n",
      "['Department of Geogrpahy and Environmental Sustainability']\n",
      "0000-0002-8323-4894\n",
      "Daniel Curtis\n",
      "['Department of Microbiology and Plant Biology']\n",
      "0000-0002-4528-5391\n",
      "Henry Neeman\n",
      "['College of Engineering', 'Information Technology', 'Computer Science', 'Information Technology']\n"
     ]
    }
   ],
   "source": [
    "for key1, value1 in tester.items():\n",
    "    for key2, value2 in value1.items():\n",
    "        print (key1)\n",
    "        print (key2)\n",
    "        print (value2)\n",
    "    "
   ]
  },
  {
   "cell_type": "code",
   "execution_count": 28,
   "metadata": {
    "collapsed": true
   },
   "outputs": [],
   "source": [
    "keys1 = tester.keys()"
   ]
  },
  {
   "cell_type": "code",
   "execution_count": 29,
   "metadata": {
    "collapsed": false
   },
   "outputs": [
    {
     "data": {
      "text/plain": [
       "dict_keys(['0000-0002-6614-8564', '0000-0002-2173-8851', '0000-0002-6857-919X', '0000-0001-7791-9750', '0000-0001-7715-2836', '0000-0002-9505-9069', '0000-0002-8323-4894', '0000-0002-4528-5391'])"
      ]
     },
     "execution_count": 29,
     "metadata": {},
     "output_type": "execute_result"
    }
   ],
   "source": [
    "keys1"
   ]
  },
  {
   "cell_type": "code",
   "execution_count": 30,
   "metadata": {
    "collapsed": false
   },
   "outputs": [],
   "source": [
    "keys2 = tester.values"
   ]
  },
  {
   "cell_type": "code",
   "execution_count": 31,
   "metadata": {
    "collapsed": false
   },
   "outputs": [],
   "source": [
    "c = tester.items()"
   ]
  },
  {
   "cell_type": "code",
   "execution_count": 32,
   "metadata": {
    "collapsed": false
   },
   "outputs": [
    {
     "name": "stdout",
     "output_type": "stream",
     "text": [
      "{'Keith Brewster': ['Center for Analysis and Prediction of Storms']}\n",
      "{'Andrew Kierig': ['Political Science']}\n",
      "{'Rachel Jones-Summan': ['Modern Languages']}\n",
      "{'Tao Zhao': ['Library']}\n",
      "{'Elizabeth Knapp': ['Honors College', 'Department of Classics and Letters']}\n",
      "{'Bruce Hoagland': ['Department of Geogrpahy and Environmental Sustainability']}\n",
      "{'Daniel Curtis': ['Department of Microbiology and Plant Biology']}\n",
      "{'Henry Neeman': ['College of Engineering', 'Information Technology', 'Computer Science', 'Information Technology']}\n"
     ]
    }
   ],
   "source": [
    "for c in tester.values():\n",
    "    print (c)"
   ]
  },
  {
   "cell_type": "code",
   "execution_count": null,
   "metadata": {
    "collapsed": true
   },
   "outputs": [],
   "source": []
  },
  {
   "cell_type": "code",
   "execution_count": 33,
   "metadata": {
    "collapsed": false
   },
   "outputs": [],
   "source": [
    "with open ('output/ou_orcid.csv', 'w', newline='') as fileout:\n",
    "    peoplewriter = csv.writer(fileout, delimiter=',')\n",
    "    for key1, value1 in tester.items():\n",
    "        for key2, value2 in value1.items():\n",
    "            row = (str(key1), str(key2), value2)\n",
    "            peoplewriter.writerow(row)\n",
    "fileout.close()"
   ]
  },
  {
   "cell_type": "code",
   "execution_count": null,
   "metadata": {
    "collapsed": true
   },
   "outputs": [],
   "source": []
  },
  {
   "cell_type": "markdown",
   "metadata": {},
   "source": [
    "### Methods for recursively moving through a nested dictionary"
   ]
  },
  {
   "cell_type": "code",
   "execution_count": 34,
   "metadata": {
    "collapsed": true
   },
   "outputs": [],
   "source": [
    "def myprint(d):\n",
    "    stack = list(d.items())\n",
    "    while stack:\n",
    "        k, v = stack.pop()\n",
    "        if isinstance(v, dict):\n",
    "            stack.extend(v.items())\n",
    "        else:\n",
    "            print(\"%s: %s\" % (k, v))"
   ]
  },
  {
   "cell_type": "code",
   "execution_count": 35,
   "metadata": {
    "collapsed": false
   },
   "outputs": [
    {
     "name": "stdout",
     "output_type": "stream",
     "text": [
      "Henry Neeman: ['College of Engineering', 'Information Technology', 'Computer Science', 'Information Technology']\n",
      "Daniel Curtis: ['Department of Microbiology and Plant Biology']\n",
      "Bruce Hoagland: ['Department of Geogrpahy and Environmental Sustainability']\n",
      "Elizabeth Knapp: ['Honors College', 'Department of Classics and Letters']\n",
      "Tao Zhao: ['Library']\n",
      "Rachel Jones-Summan: ['Modern Languages']\n",
      "Andrew Kierig: ['Political Science']\n",
      "Keith Brewster: ['Center for Analysis and Prediction of Storms']\n"
     ]
    }
   ],
   "source": [
    "myprint(tester)"
   ]
  },
  {
   "cell_type": "code",
   "execution_count": 36,
   "metadata": {
    "collapsed": false
   },
   "outputs": [
    {
     "data": {
      "text/plain": [
       "{'0000-0001-7715-2836': {'Elizabeth Knapp': ['Honors College',\n",
       "   'Department of Classics and Letters']},\n",
       " '0000-0001-7791-9750': {'Tao Zhao': ['Library']},\n",
       " '0000-0002-2173-8851': {'Andrew Kierig': ['Political Science']},\n",
       " '0000-0002-4528-5391': {'Henry Neeman': ['College of Engineering',\n",
       "   'Information Technology',\n",
       "   'Computer Science',\n",
       "   'Information Technology']},\n",
       " '0000-0002-6614-8564': {'Keith Brewster': ['Center for Analysis and Prediction of Storms']},\n",
       " '0000-0002-6857-919X': {'Rachel Jones-Summan': ['Modern Languages']},\n",
       " '0000-0002-8323-4894': {'Daniel Curtis': ['Department of Microbiology and Plant Biology']},\n",
       " '0000-0002-9505-9069': {'Bruce Hoagland': ['Department of Geogrpahy and Environmental Sustainability']}}"
      ]
     },
     "execution_count": 36,
     "metadata": {},
     "output_type": "execute_result"
    }
   ],
   "source": [
    "tester"
   ]
  },
  {
   "cell_type": "code",
   "execution_count": 37,
   "metadata": {
    "collapsed": false
   },
   "outputs": [],
   "source": [
    "d = {\n",
    "'key_1': 'value_1',\n",
    "'key_2': {'key_21': [(2100, 2101), (2110, 2111)],\n",
    "      'key_22': ['l1', 'l2'],\n",
    "      'key_23': {'key_231': 'v'},\n",
    "      'key_24': {'key_241': 502,\n",
    "             'key_242': [(5, 0), (7, 0)],\n",
    "             'key_243': {'key_2431': [0, 0],\n",
    "                 'key_2432': 504,\n",
    "                 'key_2433': [(11451, 0), (11452, 0)]\n",
    "                },\n",
    "             'key_244': {'key_2441': {'key_24411': {'key_244111': 'v_24411',\n",
    "                                'key_244112': [(5549, 0)]\n",
    "                               },\n",
    "                          'key_24412':'v_24412'\n",
    "                         },\n",
    "                 'key_2441': ['ll1', 'll2']\n",
    "                }\n",
    "            },\n",
    "     }\n",
    "}"
   ]
  },
  {
   "cell_type": "code",
   "execution_count": 38,
   "metadata": {
    "collapsed": false
   },
   "outputs": [
    {
     "name": "stdout",
     "output_type": "stream",
     "text": [
      "key_22: ['l1', 'l2']\n",
      "key_21: [(2100, 2101), (2110, 2111)]\n",
      "key_2441: ['ll1', 'll2']\n",
      "key_242: [(5, 0), (7, 0)]\n",
      "key_2431: [0, 0]\n",
      "key_2432: 504\n",
      "key_2433: [(11451, 0), (11452, 0)]\n",
      "key_241: 502\n",
      "key_231: v\n",
      "key_1: value_1\n"
     ]
    }
   ],
   "source": [
    "myprint(d)"
   ]
  },
  {
   "cell_type": "code",
   "execution_count": 39,
   "metadata": {
    "collapsed": false
   },
   "outputs": [
    {
     "name": "stdout",
     "output_type": "stream",
     "text": [
      "('key_1',): value_1\n",
      "('key_2', 'key_23', 'key_231'): v\n",
      "('key_2', 'key_24', 'key_241'): 502\n",
      "('key_2', 'key_24', 'key_243', 'key_2433'): [(11451, 0), (11452, 0)]\n",
      "('key_2', 'key_24', 'key_243', 'key_2432'): 504\n",
      "('key_2', 'key_24', 'key_243', 'key_2431'): [0, 0]\n",
      "('key_2', 'key_24', 'key_242'): [(5, 0), (7, 0)]\n",
      "('key_2', 'key_24', 'key_244', 'key_2441'): ['ll1', 'll2']\n",
      "('key_2', 'key_21'): [(2100, 2101), (2110, 2111)]\n",
      "('key_2', 'key_22'): ['l1', 'l2']\n"
     ]
    }
   ],
   "source": [
    "def recurse(d, keys=()):\n",
    "    if type(d) == dict:\n",
    "         for k in d:\n",
    "            for rv in recurse(d[k], keys + (k, )):\n",
    "                yield rv\n",
    "    else:\n",
    "        yield (keys, d)\n",
    "        \n",
    "for compound_key, val in recurse(d):\n",
    "    print ('{}: {}'.format(compound_key, val))"
   ]
  },
  {
   "cell_type": "code",
   "execution_count": 74,
   "metadata": {
    "collapsed": false
   },
   "outputs": [
    {
     "name": "stdout",
     "output_type": "stream",
     "text": [
      "\n",
      "\n",
      "['0000-0002-6614-8564', 'Keith Brewster', 'Center for Analysis and Prediction of Storms']\n",
      "\n",
      "\n",
      "['0000-0002-2173-8851', 'Andrew Kierig', 'Political Science']\n",
      "\n",
      "\n",
      "['0000-0002-6857-919X', 'Rachel Jones-Summan', 'Modern Languages']\n",
      "\n",
      "\n",
      "['0000-0001-7791-9750', 'Tao Zhao', 'Library']\n",
      "\n",
      "\n",
      "['0000-0001-7715-2836', 'Elizabeth Knapp', 'Honors College', 'Department of Classics and Letters']\n",
      "\n",
      "\n",
      "['0000-0002-9505-9069', 'Bruce Hoagland', 'Department of Geogrpahy and Environmental Sustainability']\n",
      "\n",
      "\n",
      "['0000-0002-8323-4894', 'Daniel Curtis', 'Department of Microbiology and Plant Biology']\n",
      "\n",
      "\n",
      "['0000-0002-4528-5391', 'Henry Neeman', 'College of Engineering', 'Information Technology', 'Computer Science', 'Information Technology']\n"
     ]
    }
   ],
   "source": [
    "for ids, val in recurse(tester):\n",
    "    # print (ids, val)\n",
    "    print ('\\n')\n",
    "    print ([ j for j in ids] +  [k for k in val])"
   ]
  },
  {
   "cell_type": "code",
   "execution_count": 67,
   "metadata": {
    "collapsed": false
   },
   "outputs": [
    {
     "data": {
      "text/plain": [
       "'0000-0002-4528-5391'"
      ]
     },
     "execution_count": 67,
     "metadata": {},
     "output_type": "execute_result"
    }
   ],
   "source": [
    "ids[0]"
   ]
  },
  {
   "cell_type": "code",
   "execution_count": 68,
   "metadata": {
    "collapsed": false
   },
   "outputs": [
    {
     "name": "stdout",
     "output_type": "stream",
     "text": [
      "0000-0002-4528-5391\n",
      "Henry Neeman\n"
     ]
    }
   ],
   "source": [
    "for j in ids:\n",
    "    print (j)"
   ]
  },
  {
   "cell_type": "code",
   "execution_count": null,
   "metadata": {
    "collapsed": true
   },
   "outputs": [],
   "source": []
  },
  {
   "cell_type": "code",
   "execution_count": null,
   "metadata": {
    "collapsed": true
   },
   "outputs": [],
   "source": []
  },
  {
   "cell_type": "code",
   "execution_count": null,
   "metadata": {
    "collapsed": true
   },
   "outputs": [],
   "source": []
  },
  {
   "cell_type": "code",
   "execution_count": null,
   "metadata": {
    "collapsed": true
   },
   "outputs": [],
   "source": []
  },
  {
   "cell_type": "code",
   "execution_count": 41,
   "metadata": {
    "collapsed": false
   },
   "outputs": [
    {
     "name": "stdout",
     "output_type": "stream",
     "text": [
      "('employments', 'employment-summary'): [{'path': '/0000-0001-5544-0976/employment/540305', 'department-name': 'Department of Meteorology', 'put-code': 540305, 'visibility': 'PUBLIC', 'source': {'source-orcid': {'uri': 'http://orcid.org/0000-0001-5544-0976', 'path': '0000-0001-5544-0976', 'host': 'orcid.org'}, 'source-client-id': None, 'source-name': {'value': 'Mark Laufersweiler'}}, 'created-date': {'value': 1414175023832}, 'organization': {'name': 'Florida State University', 'disambiguated-organization': {'disambiguation-source': 'RINGGOLD', 'disambiguated-organization-identifier': '7823'}, 'address': {'region': 'FL', 'country': 'US', 'city': 'Tallahassee'}}, 'last-modified-date': {'value': 1414175023832}, 'end-date': {'month': {'value': '06'}, 'year': {'value': '1999'}, 'day': None}, 'role-title': 'Computer Research Specialist', 'start-date': {'month': {'value': '02'}, 'year': {'value': '1996'}, 'day': None}}, {'path': '/0000-0001-5544-0976/employment/540303', 'department-name': 'Regional Atmospheric Sciences Division', 'put-code': 540303, 'visibility': 'PUBLIC', 'source': {'source-orcid': {'uri': 'http://orcid.org/0000-0001-5544-0976', 'path': '0000-0001-5544-0976', 'host': 'orcid.org'}, 'source-client-id': None, 'source-name': {'value': 'Mark Laufersweiler'}}, 'created-date': {'value': 1414174919768}, 'organization': {'name': 'Lawrence Livermore National Laboratory', 'disambiguated-organization': {'disambiguation-source': 'RINGGOLD', 'disambiguated-organization-identifier': '4578'}, 'address': {'region': 'CA', 'country': 'US', 'city': 'Livermore'}}, 'last-modified-date': {'value': 1414174919768}, 'end-date': {'month': {'value': '02'}, 'year': {'value': '1996'}, 'day': None}, 'role-title': 'Atmospheric Radiation Measurement/Post-Doctorate ', 'start-date': {'month': {'value': '07'}, 'year': {'value': '1994'}, 'day': None}}, {'path': '/0000-0001-5544-0976/employment/389355', 'department-name': 'School of Meteorology', 'put-code': 389355, 'visibility': 'PUBLIC', 'source': {'source-orcid': {'uri': 'http://orcid.org/0000-0001-5544-0976', 'path': '0000-0001-5544-0976', 'host': 'orcid.org'}, 'source-client-id': None, 'source-name': {'value': 'Mark Laufersweiler'}}, 'created-date': {'value': 1407258430572}, 'organization': {'name': 'University of Oklahoma', 'disambiguated-organization': {'disambiguation-source': 'RINGGOLD', 'disambiguated-organization-identifier': '6187'}, 'address': {'region': 'OK', 'country': 'US', 'city': 'Norman'}}, 'last-modified-date': {'value': 1407258430572}, 'end-date': {'month': {'value': '09'}, 'year': {'value': '2013'}, 'day': None}, 'role-title': 'Computer Systems Coordinator', 'start-date': {'month': {'value': '07'}, 'year': {'value': '1999'}, 'day': None}}, {'path': '/0000-0001-5544-0976/employment/389358', 'department-name': 'OU Libraries', 'put-code': 389358, 'visibility': 'PUBLIC', 'source': {'source-orcid': {'uri': 'http://orcid.org/0000-0001-5544-0976', 'path': '0000-0001-5544-0976', 'host': 'orcid.org'}, 'source-client-id': None, 'source-name': {'value': 'Mark Laufersweiler'}}, 'created-date': {'value': 1407258554933}, 'organization': {'name': 'University of Oklahoma', 'disambiguated-organization': {'disambiguation-source': 'RINGGOLD', 'disambiguated-organization-identifier': '6187'}, 'address': {'region': 'OK', 'country': 'US', 'city': 'Norman'}}, 'last-modified-date': {'value': 1407258554933}, 'end-date': None, 'role-title': 'Research Data Specialist', 'start-date': {'month': {'value': '10'}, 'year': {'value': '2013'}, 'day': None}}]\n",
      "\n",
      "('peer-reviews', 'group'): None\n",
      "\n",
      "('educations', 'education-summary'): [{'path': '/0000-0001-5544-0976/education/123811', 'department-name': 'Physics and Astronomy ', 'put-code': 123811, 'visibility': 'PUBLIC', 'source': {'source-orcid': {'uri': 'http://orcid.org/0000-0001-5544-0976', 'path': '0000-0001-5544-0976', 'host': 'orcid.org'}, 'source-client-id': None, 'source-name': {'value': 'Mark Laufersweiler'}}, 'created-date': {'value': 1392755678486}, 'organization': {'name': 'University of Kentucky', 'disambiguated-organization': {'disambiguation-source': 'RINGGOLD', 'disambiguated-organization-identifier': '4530'}, 'address': {'region': 'KY', 'country': 'US', 'city': 'Lexington'}}, 'last-modified-date': {'value': 1392761508155}, 'end-date': {'month': None, 'year': {'value': '1982'}, 'day': None}, 'role-title': 'BS in Physics', 'start-date': {'month': None, 'year': {'value': '1978'}, 'day': None}}, {'path': '/0000-0001-5544-0976/education/191995', 'department-name': 'Meteorology', 'put-code': 191995, 'visibility': 'PUBLIC', 'source': {'source-orcid': {'uri': 'http://orcid.org/0000-0001-5544-0976', 'path': '0000-0001-5544-0976', 'host': 'orcid.org'}, 'source-client-id': None, 'source-name': {'value': 'Mark Laufersweiler'}}, 'created-date': {'value': 1395863232090}, 'organization': {'name': 'Pennsylvania State University University Park', 'disambiguated-organization': {'disambiguation-source': 'RINGGOLD', 'disambiguated-organization-identifier': '311285'}, 'address': {'region': 'PA', 'country': 'US', 'city': 'University Park'}}, 'last-modified-date': {'value': 1395863232090}, 'end-date': {'month': None, 'year': {'value': '1985'}, 'day': None}, 'role-title': 'MS in Meteorology', 'start-date': {'month': None, 'year': {'value': '1982'}, 'day': None}}, {'path': '/0000-0001-5544-0976/education/191998', 'department-name': 'Meteorology', 'put-code': 191998, 'visibility': 'PUBLIC', 'source': {'source-orcid': {'uri': 'http://orcid.org/0000-0001-5544-0976', 'path': '0000-0001-5544-0976', 'host': 'orcid.org'}, 'source-client-id': None, 'source-name': {'value': 'Mark Laufersweiler'}}, 'created-date': {'value': 1395863267082}, 'organization': {'name': 'Pennsylvania State University University Park', 'disambiguated-organization': {'disambiguation-source': 'RINGGOLD', 'disambiguated-organization-identifier': '311285'}, 'address': {'region': 'PA', 'country': 'US', 'city': 'University Park'}}, 'last-modified-date': {'value': 1395863267082}, 'end-date': {'month': None, 'year': {'value': '1993'}, 'day': None}, 'role-title': 'PhD in Meteorology', 'start-date': {'month': None, 'year': {'value': '1985'}, 'day': None}}]\n",
      "\n",
      "('works', 'group'): [{'work-summary': [{'display-index': '2', 'type': 'CONFERENCE_PAPER', 'title': {'subtitle': None, 'title': {'value': 'Leveraging the Internet to enhance the skills of entry-level Meteorology Majors: Three Years Later'}, 'translated-title': None}, 'external-identifiers': {'work-external-identifier': []}, 'source': {'source-orcid': {'uri': 'http://orcid.org/0000-0001-5544-0976', 'path': '0000-0001-5544-0976', 'host': 'orcid.org'}, 'source-client-id': None, 'source-name': {'value': 'Mark Laufersweiler'}}, 'created-date': {'value': 1442335952888}, 'path': '/0000-0001-5544-0976/work/18502574', 'last-modified-date': {'value': 1442335952905}, 'put-code': 18502574, 'publication-date': {'month': {'value': '00'}, 'media-type': None, 'year': {'value': '2004'}, 'day': {'value': '00'}}, 'visibility': 'PUBLIC'}], 'identifiers': None}, {'work-summary': [{'display-index': '1', 'type': 'CONFERENCE_PAPER', 'title': {'subtitle': None, 'title': {'value': 'Data management and scientific integration within the Atmospheric Radiation Measurement Program'}, 'translated-title': None}, 'external-identifiers': {'work-external-identifier': []}, 'source': {'source-orcid': {'uri': 'http://orcid.org/0000-0001-5544-0976', 'path': '0000-0001-5544-0976', 'host': 'orcid.org'}, 'source-client-id': None, 'source-name': {'value': 'Mark Laufersweiler'}}, 'created-date': {'value': 1442334404626}, 'path': '/0000-0001-5544-0976/work/18502569', 'last-modified-date': {'value': 1442334404626}, 'put-code': 18502569, 'publication-date': {'month': {'value': '00'}, 'media-type': None, 'year': {'value': '1995'}, 'day': {'value': '00'}}, 'visibility': 'PUBLIC'}], 'identifiers': None}, {'work-summary': [{'display-index': '0', 'type': 'JOURNAL_ARTICLE', 'title': {'subtitle': None, 'title': {'value': 'Expanding horizons'}, 'translated-title': None}, 'external-identifiers': {'work-external-identifier': [{'external-identifier-url': {'value': ''}, 'external-identifier-id': {'value': '10.1175/BAMS-86-2-167'}, 'relationship': 'SELF', 'external-identifier-type': 'DOI'}, {'external-identifier-url': {'value': ''}, 'external-identifier-id': {'value': '2-s2.0-15044341866'}, 'relationship': 'SELF', 'external-identifier-type': 'EID'}]}, 'source': {'source-orcid': {'uri': 'http://orcid.org/0000-0002-5982-8983', 'path': '0000-0002-5982-8983', 'host': 'orcid.org'}, 'source-client-id': None, 'source-name': {'value': 'Scopus to ORCID'}}, 'created-date': {'value': 1414175245463}, 'path': '/0000-0001-5544-0976/work/14187126', 'last-modified-date': {'value': 1437662498172}, 'put-code': 14187126, 'publication-date': {'month': {'value': '00'}, 'media-type': None, 'year': {'value': '2005'}, 'day': {'value': '00'}}, 'visibility': 'PUBLIC'}], 'identifiers': {'identifier': [{'external-identifier-id': '2-s2.0-15044341866', 'external-identifier-type': 'eid'}, {'external-identifier-id': '10.1175/BAMS-86-2-167', 'external-identifier-type': 'doi'}]}}, {'work-summary': [{'display-index': '0', 'type': 'JOURNAL_ARTICLE', 'title': {'subtitle': None, 'title': {'value': 'A theoretical model of multi-regime convection in a stratocumulus-topped boundary layer'}, 'translated-title': None}, 'external-identifiers': {'work-external-identifier': [{'external-identifier-url': {'value': ''}, 'external-identifier-id': {'value': '10.1007/BF00712679'}, 'relationship': 'SELF', 'external-identifier-type': 'DOI'}, {'external-identifier-url': {'value': ''}, 'external-identifier-id': {'value': '2-s2.0-0028826781'}, 'relationship': 'SELF', 'external-identifier-type': 'EID'}]}, 'source': {'source-orcid': {'uri': 'http://orcid.org/0000-0002-5982-8983', 'path': '0000-0002-5982-8983', 'host': 'orcid.org'}, 'source-client-id': None, 'source-name': {'value': 'Scopus to ORCID'}}, 'created-date': {'value': 1414175245470}, 'path': '/0000-0001-5544-0976/work/14187127', 'last-modified-date': {'value': 1437662498214}, 'put-code': 14187127, 'publication-date': {'month': {'value': '00'}, 'media-type': None, 'year': {'value': '1995'}, 'day': {'value': '00'}}, 'visibility': 'PUBLIC'}], 'identifiers': {'identifier': [{'external-identifier-id': '10.1007/BF00712679', 'external-identifier-type': 'doi'}, {'external-identifier-id': '2-s2.0-0028826781', 'external-identifier-type': 'eid'}]}}, {'work-summary': [{'display-index': '0', 'type': 'JOURNAL_ARTICLE', 'title': {'subtitle': None, 'title': {'value': 'A simple dynamical model of a stratocumulus-topped boundary layer'}, 'translated-title': None}, 'external-identifiers': {'work-external-identifier': [{'external-identifier-url': {'value': ''}, 'external-identifier-id': {'value': '2-s2.0-0024794585'}, 'relationship': 'SELF', 'external-identifier-type': 'EID'}]}, 'source': {'source-orcid': {'uri': 'http://orcid.org/0000-0002-5982-8983', 'path': '0000-0002-5982-8983', 'host': 'orcid.org'}, 'source-client-id': None, 'source-name': {'value': 'Scopus to ORCID'}}, 'created-date': {'value': 1414175245474}, 'path': '/0000-0001-5544-0976/work/14187128', 'last-modified-date': {'value': 1437662498264}, 'put-code': 14187128, 'publication-date': {'month': {'value': '00'}, 'media-type': None, 'year': {'value': '1989'}, 'day': {'value': '00'}}, 'visibility': 'PUBLIC'}], 'identifiers': {'identifier': [{'external-identifier-id': '2-s2.0-0024794585', 'external-identifier-type': 'eid'}]}}, {'work-summary': [{'display-index': '0', 'type': 'OTHER', 'title': {'subtitle': None, 'title': {'value': 'The expected branching solution: Preferred wavelengths'}, 'translated-title': None}, 'external-identifiers': {'work-external-identifier': [{'external-identifier-url': None, 'external-identifier-id': {'value': '10.1007/3-540-17557-1_7'}, 'relationship': 'SELF', 'external-identifier-type': 'DOI'}]}, 'source': {'source-orcid': {'uri': 'http://orcid.org/0000-0002-3054-1567', 'path': '0000-0002-3054-1567', 'host': 'orcid.org'}, 'source-client-id': None, 'source-name': {'value': 'CrossRef Metadata Search'}}, 'created-date': {'value': 1442332993099}, 'path': '/0000-0001-5544-0976/work/18501464', 'last-modified-date': {'value': 1442332993099}, 'put-code': 18501464, 'publication-date': {'month': {'value': '00'}, 'media-type': None, 'year': {'value': '1987'}, 'day': {'value': '00'}}, 'visibility': 'PUBLIC'}], 'identifiers': {'identifier': [{'external-identifier-id': '10.1007/3-540-17557-1_7', 'external-identifier-type': 'doi'}]}}]\n",
      "\n",
      "('fundings', 'group'): [{'summary': [{'display-index': '0', 'external-identifiers': None, 'source': {'source-orcid': {'uri': 'http://orcid.org/0000-0001-5544-0976', 'path': '0000-0001-5544-0976', 'host': 'orcid.org'}, 'source-client-id': None, 'source-name': {'value': 'Mark Laufersweiler'}}, 'created-date': {'value': 1416843086792}, 'path': '/0000-0001-5544-0976/funding/51841', 'last-modified-date': {'value': 1416843086792}, 'start-date': {'month': None, 'year': {'value': '2004'}, 'day': None}, 'type': 'GRANT', 'title': {'translated-title': None, 'title': {'value': 'Real Time and Archival DODS/ADDE Server for the OU School of Meteorology and Unidata Community'}}, 'end-date': None, 'put-code': 51841, 'visibility': 'PUBLIC'}], 'identifiers': None}]\n",
      "\n"
     ]
    }
   ],
   "source": [
    "api = orcid.PublicAPI()\n",
    "summary = api.read_record_public('0000-0001-5544-0976', 'activities')\n",
    "\n",
    "for compound_key, val in recurse(summary):\n",
    "    print ('{}: {}\\n'.format(compound_key, val))"
   ]
  }
 ],
 "metadata": {
  "kernelspec": {
   "display_name": "Python 3",
   "language": "python",
   "name": "python3"
  },
  "language_info": {
   "codemirror_mode": {
    "name": "ipython",
    "version": 3
   },
   "file_extension": ".py",
   "mimetype": "text/x-python",
   "name": "python",
   "nbconvert_exporter": "python",
   "pygments_lexer": "ipython3",
   "version": "3.4.3"
  }
 },
 "nbformat": 4,
 "nbformat_minor": 0
}
