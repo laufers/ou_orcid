{
 "cells": [
  {
   "cell_type": "code",
   "execution_count": 47,
   "metadata": {
    "collapsed": true
   },
   "outputs": [],
   "source": [
    "import pprint\n",
    "import orcid\n",
    "from requests import RequestException"
   ]
  },
  {
   "cell_type": "code",
   "execution_count": 48,
   "metadata": {
    "collapsed": false
   },
   "outputs": [],
   "source": [
    "api = orcid.PublicAPI()"
   ]
  },
  {
   "cell_type": "code",
   "execution_count": 49,
   "metadata": {
    "collapsed": true
   },
   "outputs": [],
   "source": [
    "ringgoldid= '6187'\n",
    "place = \"Oklahoma\""
   ]
  },
  {
   "cell_type": "code",
   "execution_count": 50,
   "metadata": {
    "collapsed": false
   },
   "outputs": [],
   "source": [
    "university = api.search_public('%s %s' % (ringgoldid, place), rows=10)"
   ]
  },
  {
   "cell_type": "code",
   "execution_count": 51,
   "metadata": {
    "collapsed": false
   },
   "outputs": [
    {
     "data": {
      "text/plain": [
       "{'error-desc': None,\n",
       " 'message-version': '1.2',\n",
       " 'orcid-profile': None,\n",
       " 'orcid-search-results': {'num-found': 1607,\n",
       "  'orcid-search-result': [{'orcid-profile': {'client-type': None,\n",
       "     'group-type': None,\n",
       "     'orcid': None,\n",
       "     'orcid-activities': None,\n",
       "     'orcid-bio': {'biography': None,\n",
       "      'contact-details': None,\n",
       "      'delegation': None,\n",
       "      'external-identifiers': None,\n",
       "      'keywords': None,\n",
       "      'personal-details': {'credit-name': None,\n",
       "       'family-name': {'value': 'Brewster'},\n",
       "       'given-names': {'value': 'Keith'},\n",
       "       'other-names': None},\n",
       "      'researcher-urls': None,\n",
       "      'scope': None},\n",
       "     'orcid-deprecated': None,\n",
       "     'orcid-history': None,\n",
       "     'orcid-id': None,\n",
       "     'orcid-identifier': {'host': 'orcid.org',\n",
       "      'path': '0000-0002-6614-8564',\n",
       "      'uri': 'http://orcid.org/0000-0002-6614-8564',\n",
       "      'value': None},\n",
       "     'orcid-internal': None,\n",
       "     'orcid-preferences': None,\n",
       "     'type': None},\n",
       "    'relevancy-score': {'value': 0.94465363}},\n",
       "   {'orcid-profile': {'client-type': None,\n",
       "     'group-type': None,\n",
       "     'orcid': None,\n",
       "     'orcid-activities': None,\n",
       "     'orcid-bio': {'biography': None,\n",
       "      'contact-details': None,\n",
       "      'delegation': None,\n",
       "      'external-identifiers': None,\n",
       "      'keywords': None,\n",
       "      'personal-details': {'credit-name': None,\n",
       "       'family-name': {'value': 'Zhao'},\n",
       "       'given-names': {'value': 'Tao'},\n",
       "       'other-names': None},\n",
       "      'researcher-urls': None,\n",
       "      'scope': None},\n",
       "     'orcid-deprecated': None,\n",
       "     'orcid-history': None,\n",
       "     'orcid-id': None,\n",
       "     'orcid-identifier': {'host': 'orcid.org',\n",
       "      'path': '0000-0001-7791-9750',\n",
       "      'uri': 'http://orcid.org/0000-0001-7791-9750',\n",
       "      'value': None},\n",
       "     'orcid-internal': None,\n",
       "     'orcid-preferences': None,\n",
       "     'type': None},\n",
       "    'relevancy-score': {'value': 0.818094}},\n",
       "   {'orcid-profile': {'client-type': None,\n",
       "     'group-type': None,\n",
       "     'orcid': None,\n",
       "     'orcid-activities': None,\n",
       "     'orcid-bio': {'biography': None,\n",
       "      'contact-details': None,\n",
       "      'delegation': None,\n",
       "      'external-identifiers': None,\n",
       "      'keywords': None,\n",
       "      'personal-details': {'credit-name': None,\n",
       "       'family-name': {'value': 'Kierig'},\n",
       "       'given-names': {'value': 'Andrew'},\n",
       "       'other-names': None},\n",
       "      'researcher-urls': None,\n",
       "      'scope': None},\n",
       "     'orcid-deprecated': None,\n",
       "     'orcid-history': None,\n",
       "     'orcid-id': None,\n",
       "     'orcid-identifier': {'host': 'orcid.org',\n",
       "      'path': '0000-0002-2173-8851',\n",
       "      'uri': 'http://orcid.org/0000-0002-2173-8851',\n",
       "      'value': None},\n",
       "     'orcid-internal': None,\n",
       "     'orcid-preferences': None,\n",
       "     'type': None},\n",
       "    'relevancy-score': {'value': 0.818094}},\n",
       "   {'orcid-profile': {'client-type': None,\n",
       "     'group-type': None,\n",
       "     'orcid': None,\n",
       "     'orcid-activities': None,\n",
       "     'orcid-bio': {'biography': None,\n",
       "      'contact-details': {'address': {'country': {'value': 'US',\n",
       "         'visibility': None}},\n",
       "       'email': []},\n",
       "      'delegation': None,\n",
       "      'external-identifiers': None,\n",
       "      'keywords': None,\n",
       "      'personal-details': {'credit-name': None,\n",
       "       'family-name': {'value': 'Knapp'},\n",
       "       'given-names': {'value': 'Elizabeth'},\n",
       "       'other-names': None},\n",
       "      'researcher-urls': None,\n",
       "      'scope': None},\n",
       "     'orcid-deprecated': None,\n",
       "     'orcid-history': None,\n",
       "     'orcid-id': None,\n",
       "     'orcid-identifier': {'host': 'orcid.org',\n",
       "      'path': '0000-0001-7715-2836',\n",
       "      'uri': 'http://orcid.org/0000-0001-7715-2836',\n",
       "      'value': None},\n",
       "     'orcid-internal': None,\n",
       "     'orcid-preferences': None,\n",
       "     'type': None},\n",
       "    'relevancy-score': {'value': 0.818094}},\n",
       "   {'orcid-profile': {'client-type': None,\n",
       "     'group-type': None,\n",
       "     'orcid': None,\n",
       "     'orcid-activities': None,\n",
       "     'orcid-bio': {'biography': None,\n",
       "      'contact-details': None,\n",
       "      'delegation': None,\n",
       "      'external-identifiers': None,\n",
       "      'keywords': None,\n",
       "      'personal-details': {'credit-name': None,\n",
       "       'family-name': {'value': 'Arms'},\n",
       "       'given-names': {'value': 'Sean'},\n",
       "       'other-names': None},\n",
       "      'researcher-urls': None,\n",
       "      'scope': None},\n",
       "     'orcid-deprecated': None,\n",
       "     'orcid-history': None,\n",
       "     'orcid-id': None,\n",
       "     'orcid-identifier': {'host': 'orcid.org',\n",
       "      'path': '0000-0001-9835-113X',\n",
       "      'uri': 'http://orcid.org/0000-0001-9835-113X',\n",
       "      'value': None},\n",
       "     'orcid-internal': None,\n",
       "     'orcid-preferences': None,\n",
       "     'type': None},\n",
       "    'relevancy-score': {'value': 0.818094}},\n",
       "   {'orcid-profile': {'client-type': None,\n",
       "     'group-type': None,\n",
       "     'orcid': None,\n",
       "     'orcid-activities': None,\n",
       "     'orcid-bio': {'biography': None,\n",
       "      'contact-details': None,\n",
       "      'delegation': None,\n",
       "      'external-identifiers': {'external-identifier': [{'external-id-common-name': {'value': 'ResearcherID'},\n",
       "         'external-id-orcid': None,\n",
       "         'external-id-reference': {'value': 'M-4683-2014'},\n",
       "         'external-id-source': None,\n",
       "         'external-id-url': {'value': 'http://www.researcherid.com/rid/M-4683-2014'},\n",
       "         'orcid': None,\n",
       "         'source': {'source-client-id': None,\n",
       "          'source-date': None,\n",
       "          'source-name': None,\n",
       "          'source-orcid': {'host': 'orcid.org',\n",
       "           'path': '0000-0001-7707-4137',\n",
       "           'uri': 'http://orcid.org/0000-0001-7707-4137',\n",
       "           'value': None}}}],\n",
       "       'visibility': None},\n",
       "      'keywords': None,\n",
       "      'personal-details': {'credit-name': None,\n",
       "       'family-name': {'value': 'Cox II'},\n",
       "       'given-names': {'value': 'Derrell'},\n",
       "       'other-names': None},\n",
       "      'researcher-urls': None,\n",
       "      'scope': None},\n",
       "     'orcid-deprecated': None,\n",
       "     'orcid-history': None,\n",
       "     'orcid-id': None,\n",
       "     'orcid-identifier': {'host': 'orcid.org',\n",
       "      'path': '0000-0002-8066-7643',\n",
       "      'uri': 'http://orcid.org/0000-0002-8066-7643',\n",
       "      'value': None},\n",
       "     'orcid-internal': None,\n",
       "     'orcid-preferences': None,\n",
       "     'type': None},\n",
       "    'relevancy-score': {'value': 0.818094}},\n",
       "   {'orcid-profile': {'client-type': None,\n",
       "     'group-type': None,\n",
       "     'orcid': None,\n",
       "     'orcid-activities': None,\n",
       "     'orcid-bio': {'biography': None,\n",
       "      'contact-details': None,\n",
       "      'delegation': None,\n",
       "      'external-identifiers': None,\n",
       "      'keywords': None,\n",
       "      'personal-details': {'credit-name': None,\n",
       "       'family-name': {'value': 'Johnson'},\n",
       "       'given-names': {'value': 'Eric'},\n",
       "       'other-names': None},\n",
       "      'researcher-urls': None,\n",
       "      'scope': None},\n",
       "     'orcid-deprecated': None,\n",
       "     'orcid-history': None,\n",
       "     'orcid-id': None,\n",
       "     'orcid-identifier': {'host': 'orcid.org',\n",
       "      'path': '0000-0003-0703-3801',\n",
       "      'uri': 'http://orcid.org/0000-0003-0703-3801',\n",
       "      'value': None},\n",
       "     'orcid-internal': None,\n",
       "     'orcid-preferences': None,\n",
       "     'type': None},\n",
       "    'relevancy-score': {'value': 0.8037627}},\n",
       "   {'orcid-profile': {'client-type': None,\n",
       "     'group-type': None,\n",
       "     'orcid': None,\n",
       "     'orcid-activities': None,\n",
       "     'orcid-bio': {'biography': None,\n",
       "      'contact-details': {'address': {'country': {'value': 'GB',\n",
       "         'visibility': None}},\n",
       "       'email': []},\n",
       "      'delegation': None,\n",
       "      'external-identifiers': None,\n",
       "      'keywords': None,\n",
       "      'personal-details': {'credit-name': None,\n",
       "       'family-name': {'value': 'Sadler'},\n",
       "       'given-names': {'value': 'Leslie'},\n",
       "       'other-names': None},\n",
       "      'researcher-urls': None,\n",
       "      'scope': None},\n",
       "     'orcid-deprecated': None,\n",
       "     'orcid-history': None,\n",
       "     'orcid-id': None,\n",
       "     'orcid-identifier': {'host': 'orcid.org',\n",
       "      'path': '0000-0001-6599-6054',\n",
       "      'uri': 'http://orcid.org/0000-0001-6599-6054',\n",
       "      'value': None},\n",
       "     'orcid-internal': None,\n",
       "     'orcid-preferences': None,\n",
       "     'type': None},\n",
       "    'relevancy-score': {'value': 0.8015651}},\n",
       "   {'orcid-profile': {'client-type': None,\n",
       "     'group-type': None,\n",
       "     'orcid': None,\n",
       "     'orcid-activities': None,\n",
       "     'orcid-bio': {'biography': None,\n",
       "      'contact-details': None,\n",
       "      'delegation': None,\n",
       "      'external-identifiers': None,\n",
       "      'keywords': None,\n",
       "      'personal-details': {'credit-name': None,\n",
       "       'family-name': {'value': 'Ratowt'},\n",
       "       'given-names': {'value': 'Sylwester'},\n",
       "       'other-names': None},\n",
       "      'researcher-urls': None,\n",
       "      'scope': None},\n",
       "     'orcid-deprecated': None,\n",
       "     'orcid-history': None,\n",
       "     'orcid-id': None,\n",
       "     'orcid-identifier': {'host': 'orcid.org',\n",
       "      'path': '0000-0003-4424-4923',\n",
       "      'uri': 'http://orcid.org/0000-0003-4424-4923',\n",
       "      'value': None},\n",
       "     'orcid-internal': None,\n",
       "     'orcid-preferences': None,\n",
       "     'type': None},\n",
       "    'relevancy-score': {'value': 0.8015651}},\n",
       "   {'orcid-profile': {'client-type': None,\n",
       "     'group-type': None,\n",
       "     'orcid': None,\n",
       "     'orcid-activities': None,\n",
       "     'orcid-bio': {'biography': None,\n",
       "      'contact-details': None,\n",
       "      'delegation': None,\n",
       "      'external-identifiers': None,\n",
       "      'keywords': None,\n",
       "      'personal-details': {'credit-name': None,\n",
       "       'family-name': {'value': 'Hoagland'},\n",
       "       'given-names': {'value': 'Bruce'},\n",
       "       'other-names': None},\n",
       "      'researcher-urls': None,\n",
       "      'scope': None},\n",
       "     'orcid-deprecated': None,\n",
       "     'orcid-history': None,\n",
       "     'orcid-id': None,\n",
       "     'orcid-identifier': {'host': 'orcid.org',\n",
       "      'path': '0000-0002-9505-9069',\n",
       "      'uri': 'http://orcid.org/0000-0002-9505-9069',\n",
       "      'value': None},\n",
       "     'orcid-internal': None,\n",
       "     'orcid-preferences': None,\n",
       "     'type': None},\n",
       "    'relevancy-score': {'value': 0.8015651}}]}}"
      ]
     },
     "execution_count": 51,
     "metadata": {},
     "output_type": "execute_result"
    }
   ],
   "source": [
    "university"
   ]
  },
  {
   "cell_type": "code",
   "execution_count": 52,
   "metadata": {
    "collapsed": false
   },
   "outputs": [],
   "source": [
    "ringgoldid= '6187'\n",
    "place='University of Oklahoma'"
   ]
  },
  {
   "cell_type": "code",
   "execution_count": 53,
   "metadata": {
    "collapsed": true
   },
   "outputs": [],
   "source": [
    "results = uni.get('orcid-search-results').get('orcid-search-result')"
   ]
  },
  {
   "cell_type": "code",
   "execution_count": 54,
   "metadata": {
    "collapsed": false
   },
   "outputs": [],
   "source": [
    "result = results[0]"
   ]
  },
  {
   "cell_type": "code",
   "execution_count": 55,
   "metadata": {
    "collapsed": false
   },
   "outputs": [
    {
     "data": {
      "text/plain": [
       "{'orcid-profile': {'client-type': None,\n",
       "  'group-type': None,\n",
       "  'orcid': None,\n",
       "  'orcid-activities': None,\n",
       "  'orcid-bio': {'biography': None,\n",
       "   'contact-details': None,\n",
       "   'delegation': None,\n",
       "   'external-identifiers': None,\n",
       "   'keywords': None,\n",
       "   'personal-details': {'credit-name': None,\n",
       "    'family-name': {'value': 'Brewster'},\n",
       "    'given-names': {'value': 'Keith'},\n",
       "    'other-names': None},\n",
       "   'researcher-urls': None,\n",
       "   'scope': None},\n",
       "  'orcid-deprecated': None,\n",
       "  'orcid-history': None,\n",
       "  'orcid-id': None,\n",
       "  'orcid-identifier': {'host': 'orcid.org',\n",
       "   'path': '0000-0002-6614-8564',\n",
       "   'uri': 'http://orcid.org/0000-0002-6614-8564',\n",
       "   'value': None},\n",
       "  'orcid-internal': None,\n",
       "  'orcid-preferences': None,\n",
       "  'type': None},\n",
       " 'relevancy-score': {'value': 0.94472635}}"
      ]
     },
     "execution_count": 55,
     "metadata": {},
     "output_type": "execute_result"
    }
   ],
   "source": [
    "result"
   ]
  },
  {
   "cell_type": "code",
   "execution_count": 56,
   "metadata": {
    "collapsed": false
   },
   "outputs": [
    {
     "name": "stdout",
     "output_type": "stream",
     "text": [
      "0000-0002-6614-8564\n",
      "Keith\n",
      "Brewster\n"
     ]
    }
   ],
   "source": [
    "theid = result.get('orcid-profile').get('orcid-identifier').get('path')\n",
    "print (theid)\n",
    "fname = result.get('orcid-profile').get('orcid-bio').get('personal-details').get('given-names').get('value')\n",
    "print (fname)\n",
    "lname = result.get('orcid-profile').get('orcid-bio').get('personal-details').get('family-name').get('value')\n",
    "print (lname)"
   ]
  },
  {
   "cell_type": "code",
   "execution_count": 57,
   "metadata": {
    "collapsed": false
   },
   "outputs": [
    {
     "name": "stdout",
     "output_type": "stream",
     "text": [
      "Keith\n"
     ]
    }
   ],
   "source": [
    "fname = result.get('orcid-profile').get('orcid-bio').get('personal-details').get('given-names').get('value')\n",
    "print (fname)"
   ]
  },
  {
   "cell_type": "code",
   "execution_count": 58,
   "metadata": {
    "collapsed": false
   },
   "outputs": [
    {
     "data": {
      "text/plain": [
       "str"
      ]
     },
     "execution_count": 58,
     "metadata": {},
     "output_type": "execute_result"
    }
   ],
   "source": [
    "type(fname)"
   ]
  },
  {
   "cell_type": "code",
   "execution_count": 59,
   "metadata": {
    "collapsed": false
   },
   "outputs": [
    {
     "name": "stdout",
     "output_type": "stream",
     "text": [
      "orcid-profile\n",
      "relevancy-score\n"
     ]
    }
   ],
   "source": [
    "for key in result:\n",
    "    print (key)\n"
   ]
  },
  {
   "cell_type": "code",
   "execution_count": 60,
   "metadata": {
    "collapsed": false
   },
   "outputs": [
    {
     "name": "stdout",
     "output_type": "stream",
     "text": [
      "dict_keys(['orcid-profile', 'relevancy-score'])\n"
     ]
    }
   ],
   "source": [
    "import pprint\n",
    "pprint.pprint(result.keys())"
   ]
  },
  {
   "cell_type": "code",
   "execution_count": 61,
   "metadata": {
    "collapsed": false
   },
   "outputs": [],
   "source": [
    "r = (result['orcid-profile'])"
   ]
  },
  {
   "cell_type": "code",
   "execution_count": 62,
   "metadata": {
    "collapsed": false
   },
   "outputs": [
    {
     "name": "stdout",
     "output_type": "stream",
     "text": [
      "dict_keys(['orcid-deprecated', 'orcid-id', 'group-type', 'orcid-activities', 'orcid-identifier', 'type', 'orcid-preferences', 'orcid-history', 'orcid-bio', 'orcid', 'orcid-internal', 'client-type'])\n"
     ]
    }
   ],
   "source": [
    "pprint.pprint(r.keys())"
   ]
  },
  {
   "cell_type": "code",
   "execution_count": 63,
   "metadata": {
    "collapsed": false
   },
   "outputs": [],
   "source": [
    "theid = '0000-0001-5544-0976'\n",
    "summary = api.read_record_public(theid, 'activities')"
   ]
  },
  {
   "cell_type": "code",
   "execution_count": 64,
   "metadata": {
    "collapsed": false
   },
   "outputs": [
    {
     "data": {
      "text/plain": [
       "{'educations': {'education-summary': [{'created-date': {'value': 1392755678486},\n",
       "    'department-name': 'Physics and Astronomy ',\n",
       "    'end-date': {'day': None, 'month': None, 'year': {'value': '1982'}},\n",
       "    'last-modified-date': {'value': 1392761508155},\n",
       "    'organization': {'address': {'city': 'Lexington',\n",
       "      'country': 'US',\n",
       "      'region': 'KY'},\n",
       "     'disambiguated-organization': {'disambiguated-organization-identifier': '4530',\n",
       "      'disambiguation-source': 'RINGGOLD'},\n",
       "     'name': 'University of Kentucky'},\n",
       "    'path': '/0000-0001-5544-0976/education/123811',\n",
       "    'put-code': 123811,\n",
       "    'role-title': 'BS in Physics',\n",
       "    'source': {'source-client-id': None,\n",
       "     'source-name': {'value': 'Mark Laufersweiler'},\n",
       "     'source-orcid': {'host': 'orcid.org',\n",
       "      'path': '0000-0001-5544-0976',\n",
       "      'uri': 'http://orcid.org/0000-0001-5544-0976'}},\n",
       "    'start-date': {'day': None, 'month': None, 'year': {'value': '1978'}},\n",
       "    'visibility': 'PUBLIC'},\n",
       "   {'created-date': {'value': 1395863232090},\n",
       "    'department-name': 'Meteorology',\n",
       "    'end-date': {'day': None, 'month': None, 'year': {'value': '1985'}},\n",
       "    'last-modified-date': {'value': 1395863232090},\n",
       "    'organization': {'address': {'city': 'University Park',\n",
       "      'country': 'US',\n",
       "      'region': 'PA'},\n",
       "     'disambiguated-organization': {'disambiguated-organization-identifier': '311285',\n",
       "      'disambiguation-source': 'RINGGOLD'},\n",
       "     'name': 'Pennsylvania State University University Park'},\n",
       "    'path': '/0000-0001-5544-0976/education/191995',\n",
       "    'put-code': 191995,\n",
       "    'role-title': 'MS in Meteorology',\n",
       "    'source': {'source-client-id': None,\n",
       "     'source-name': {'value': 'Mark Laufersweiler'},\n",
       "     'source-orcid': {'host': 'orcid.org',\n",
       "      'path': '0000-0001-5544-0976',\n",
       "      'uri': 'http://orcid.org/0000-0001-5544-0976'}},\n",
       "    'start-date': {'day': None, 'month': None, 'year': {'value': '1982'}},\n",
       "    'visibility': 'PUBLIC'},\n",
       "   {'created-date': {'value': 1395863267082},\n",
       "    'department-name': 'Meteorology',\n",
       "    'end-date': {'day': None, 'month': None, 'year': {'value': '1993'}},\n",
       "    'last-modified-date': {'value': 1395863267082},\n",
       "    'organization': {'address': {'city': 'University Park',\n",
       "      'country': 'US',\n",
       "      'region': 'PA'},\n",
       "     'disambiguated-organization': {'disambiguated-organization-identifier': '311285',\n",
       "      'disambiguation-source': 'RINGGOLD'},\n",
       "     'name': 'Pennsylvania State University University Park'},\n",
       "    'path': '/0000-0001-5544-0976/education/191998',\n",
       "    'put-code': 191998,\n",
       "    'role-title': 'PhD in Meteorology',\n",
       "    'source': {'source-client-id': None,\n",
       "     'source-name': {'value': 'Mark Laufersweiler'},\n",
       "     'source-orcid': {'host': 'orcid.org',\n",
       "      'path': '0000-0001-5544-0976',\n",
       "      'uri': 'http://orcid.org/0000-0001-5544-0976'}},\n",
       "    'start-date': {'day': None, 'month': None, 'year': {'value': '1985'}},\n",
       "    'visibility': 'PUBLIC'}]},\n",
       " 'employments': {'employment-summary': [{'created-date': {'value': 1414175023832},\n",
       "    'department-name': 'Department of Meteorology',\n",
       "    'end-date': {'day': None,\n",
       "     'month': {'value': '06'},\n",
       "     'year': {'value': '1999'}},\n",
       "    'last-modified-date': {'value': 1414175023832},\n",
       "    'organization': {'address': {'city': 'Tallahassee',\n",
       "      'country': 'US',\n",
       "      'region': 'FL'},\n",
       "     'disambiguated-organization': {'disambiguated-organization-identifier': '7823',\n",
       "      'disambiguation-source': 'RINGGOLD'},\n",
       "     'name': 'Florida State University'},\n",
       "    'path': '/0000-0001-5544-0976/employment/540305',\n",
       "    'put-code': 540305,\n",
       "    'role-title': 'Computer Research Specialist',\n",
       "    'source': {'source-client-id': None,\n",
       "     'source-name': {'value': 'Mark Laufersweiler'},\n",
       "     'source-orcid': {'host': 'orcid.org',\n",
       "      'path': '0000-0001-5544-0976',\n",
       "      'uri': 'http://orcid.org/0000-0001-5544-0976'}},\n",
       "    'start-date': {'day': None,\n",
       "     'month': {'value': '02'},\n",
       "     'year': {'value': '1996'}},\n",
       "    'visibility': 'PUBLIC'},\n",
       "   {'created-date': {'value': 1414174919768},\n",
       "    'department-name': 'Regional Atmospheric Sciences Division',\n",
       "    'end-date': {'day': None,\n",
       "     'month': {'value': '02'},\n",
       "     'year': {'value': '1996'}},\n",
       "    'last-modified-date': {'value': 1414174919768},\n",
       "    'organization': {'address': {'city': 'Livermore',\n",
       "      'country': 'US',\n",
       "      'region': 'CA'},\n",
       "     'disambiguated-organization': {'disambiguated-organization-identifier': '4578',\n",
       "      'disambiguation-source': 'RINGGOLD'},\n",
       "     'name': 'Lawrence Livermore National Laboratory'},\n",
       "    'path': '/0000-0001-5544-0976/employment/540303',\n",
       "    'put-code': 540303,\n",
       "    'role-title': 'Atmospheric Radiation Measurement/Post-Doctorate ',\n",
       "    'source': {'source-client-id': None,\n",
       "     'source-name': {'value': 'Mark Laufersweiler'},\n",
       "     'source-orcid': {'host': 'orcid.org',\n",
       "      'path': '0000-0001-5544-0976',\n",
       "      'uri': 'http://orcid.org/0000-0001-5544-0976'}},\n",
       "    'start-date': {'day': None,\n",
       "     'month': {'value': '07'},\n",
       "     'year': {'value': '1994'}},\n",
       "    'visibility': 'PUBLIC'},\n",
       "   {'created-date': {'value': 1407258430572},\n",
       "    'department-name': 'School of Meteorology',\n",
       "    'end-date': {'day': None,\n",
       "     'month': {'value': '09'},\n",
       "     'year': {'value': '2013'}},\n",
       "    'last-modified-date': {'value': 1407258430572},\n",
       "    'organization': {'address': {'city': 'Norman',\n",
       "      'country': 'US',\n",
       "      'region': 'OK'},\n",
       "     'disambiguated-organization': {'disambiguated-organization-identifier': '6187',\n",
       "      'disambiguation-source': 'RINGGOLD'},\n",
       "     'name': 'University of Oklahoma'},\n",
       "    'path': '/0000-0001-5544-0976/employment/389355',\n",
       "    'put-code': 389355,\n",
       "    'role-title': 'Computer Systems Coordinator',\n",
       "    'source': {'source-client-id': None,\n",
       "     'source-name': {'value': 'Mark Laufersweiler'},\n",
       "     'source-orcid': {'host': 'orcid.org',\n",
       "      'path': '0000-0001-5544-0976',\n",
       "      'uri': 'http://orcid.org/0000-0001-5544-0976'}},\n",
       "    'start-date': {'day': None,\n",
       "     'month': {'value': '07'},\n",
       "     'year': {'value': '1999'}},\n",
       "    'visibility': 'PUBLIC'},\n",
       "   {'created-date': {'value': 1407258554933},\n",
       "    'department-name': 'OU Libraries',\n",
       "    'end-date': None,\n",
       "    'last-modified-date': {'value': 1407258554933},\n",
       "    'organization': {'address': {'city': 'Norman',\n",
       "      'country': 'US',\n",
       "      'region': 'OK'},\n",
       "     'disambiguated-organization': {'disambiguated-organization-identifier': '6187',\n",
       "      'disambiguation-source': 'RINGGOLD'},\n",
       "     'name': 'University of Oklahoma'},\n",
       "    'path': '/0000-0001-5544-0976/employment/389358',\n",
       "    'put-code': 389358,\n",
       "    'role-title': 'Research Data Specialist',\n",
       "    'source': {'source-client-id': None,\n",
       "     'source-name': {'value': 'Mark Laufersweiler'},\n",
       "     'source-orcid': {'host': 'orcid.org',\n",
       "      'path': '0000-0001-5544-0976',\n",
       "      'uri': 'http://orcid.org/0000-0001-5544-0976'}},\n",
       "    'start-date': {'day': None,\n",
       "     'month': {'value': '10'},\n",
       "     'year': {'value': '2013'}},\n",
       "    'visibility': 'PUBLIC'}]},\n",
       " 'fundings': {'group': [{'identifiers': None,\n",
       "    'summary': [{'created-date': {'value': 1416843086792},\n",
       "      'display-index': '0',\n",
       "      'end-date': None,\n",
       "      'external-identifiers': None,\n",
       "      'last-modified-date': {'value': 1416843086792},\n",
       "      'path': '/0000-0001-5544-0976/funding/51841',\n",
       "      'put-code': 51841,\n",
       "      'source': {'source-client-id': None,\n",
       "       'source-name': {'value': 'Mark Laufersweiler'},\n",
       "       'source-orcid': {'host': 'orcid.org',\n",
       "        'path': '0000-0001-5544-0976',\n",
       "        'uri': 'http://orcid.org/0000-0001-5544-0976'}},\n",
       "      'start-date': {'day': None, 'month': None, 'year': {'value': '2004'}},\n",
       "      'title': {'title': {'value': 'Real Time and Archival DODS/ADDE Server for the OU School of Meteorology and Unidata Community'},\n",
       "       'translated-title': None},\n",
       "      'type': 'GRANT',\n",
       "      'visibility': 'PUBLIC'}]}]},\n",
       " 'peer-reviews': {'group': None},\n",
       " 'works': {'group': [{'identifiers': None,\n",
       "    'work-summary': [{'created-date': {'value': 1442335952888},\n",
       "      'display-index': '2',\n",
       "      'external-identifiers': {'work-external-identifier': []},\n",
       "      'last-modified-date': {'value': 1442335952905},\n",
       "      'path': '/0000-0001-5544-0976/work/18502574',\n",
       "      'publication-date': {'day': {'value': '00'},\n",
       "       'media-type': None,\n",
       "       'month': {'value': '00'},\n",
       "       'year': {'value': '2004'}},\n",
       "      'put-code': 18502574,\n",
       "      'source': {'source-client-id': None,\n",
       "       'source-name': {'value': 'Mark Laufersweiler'},\n",
       "       'source-orcid': {'host': 'orcid.org',\n",
       "        'path': '0000-0001-5544-0976',\n",
       "        'uri': 'http://orcid.org/0000-0001-5544-0976'}},\n",
       "      'title': {'subtitle': None,\n",
       "       'title': {'value': 'Leveraging the Internet to enhance the skills of entry-level Meteorology Majors: Three Years Later'},\n",
       "       'translated-title': None},\n",
       "      'type': 'CONFERENCE_PAPER',\n",
       "      'visibility': 'PUBLIC'}]},\n",
       "   {'identifiers': None,\n",
       "    'work-summary': [{'created-date': {'value': 1442334404626},\n",
       "      'display-index': '1',\n",
       "      'external-identifiers': {'work-external-identifier': []},\n",
       "      'last-modified-date': {'value': 1442334404626},\n",
       "      'path': '/0000-0001-5544-0976/work/18502569',\n",
       "      'publication-date': {'day': {'value': '00'},\n",
       "       'media-type': None,\n",
       "       'month': {'value': '00'},\n",
       "       'year': {'value': '1995'}},\n",
       "      'put-code': 18502569,\n",
       "      'source': {'source-client-id': None,\n",
       "       'source-name': {'value': 'Mark Laufersweiler'},\n",
       "       'source-orcid': {'host': 'orcid.org',\n",
       "        'path': '0000-0001-5544-0976',\n",
       "        'uri': 'http://orcid.org/0000-0001-5544-0976'}},\n",
       "      'title': {'subtitle': None,\n",
       "       'title': {'value': 'Data management and scientific integration within the Atmospheric Radiation Measurement Program'},\n",
       "       'translated-title': None},\n",
       "      'type': 'CONFERENCE_PAPER',\n",
       "      'visibility': 'PUBLIC'}]},\n",
       "   {'identifiers': {'identifier': [{'external-identifier-id': '2-s2.0-15044341866',\n",
       "       'external-identifier-type': 'eid'},\n",
       "      {'external-identifier-id': '10.1175/BAMS-86-2-167',\n",
       "       'external-identifier-type': 'doi'}]},\n",
       "    'work-summary': [{'created-date': {'value': 1414175245463},\n",
       "      'display-index': '0',\n",
       "      'external-identifiers': {'work-external-identifier': [{'external-identifier-id': {'value': '10.1175/BAMS-86-2-167'},\n",
       "         'external-identifier-type': 'DOI',\n",
       "         'external-identifier-url': {'value': ''},\n",
       "         'relationship': 'SELF'},\n",
       "        {'external-identifier-id': {'value': '2-s2.0-15044341866'},\n",
       "         'external-identifier-type': 'EID',\n",
       "         'external-identifier-url': {'value': ''},\n",
       "         'relationship': 'SELF'}]},\n",
       "      'last-modified-date': {'value': 1437662498172},\n",
       "      'path': '/0000-0001-5544-0976/work/14187126',\n",
       "      'publication-date': {'day': {'value': '00'},\n",
       "       'media-type': None,\n",
       "       'month': {'value': '00'},\n",
       "       'year': {'value': '2005'}},\n",
       "      'put-code': 14187126,\n",
       "      'source': {'source-client-id': None,\n",
       "       'source-name': {'value': 'Scopus to ORCID'},\n",
       "       'source-orcid': {'host': 'orcid.org',\n",
       "        'path': '0000-0002-5982-8983',\n",
       "        'uri': 'http://orcid.org/0000-0002-5982-8983'}},\n",
       "      'title': {'subtitle': None,\n",
       "       'title': {'value': 'Expanding horizons'},\n",
       "       'translated-title': None},\n",
       "      'type': 'JOURNAL_ARTICLE',\n",
       "      'visibility': 'PUBLIC'}]},\n",
       "   {'identifiers': {'identifier': [{'external-identifier-id': '2-s2.0-0028826781',\n",
       "       'external-identifier-type': 'eid'},\n",
       "      {'external-identifier-id': '10.1007/BF00712679',\n",
       "       'external-identifier-type': 'doi'}]},\n",
       "    'work-summary': [{'created-date': {'value': 1414175245470},\n",
       "      'display-index': '0',\n",
       "      'external-identifiers': {'work-external-identifier': [{'external-identifier-id': {'value': '10.1007/BF00712679'},\n",
       "         'external-identifier-type': 'DOI',\n",
       "         'external-identifier-url': {'value': ''},\n",
       "         'relationship': 'SELF'},\n",
       "        {'external-identifier-id': {'value': '2-s2.0-0028826781'},\n",
       "         'external-identifier-type': 'EID',\n",
       "         'external-identifier-url': {'value': ''},\n",
       "         'relationship': 'SELF'}]},\n",
       "      'last-modified-date': {'value': 1437662498214},\n",
       "      'path': '/0000-0001-5544-0976/work/14187127',\n",
       "      'publication-date': {'day': {'value': '00'},\n",
       "       'media-type': None,\n",
       "       'month': {'value': '00'},\n",
       "       'year': {'value': '1995'}},\n",
       "      'put-code': 14187127,\n",
       "      'source': {'source-client-id': None,\n",
       "       'source-name': {'value': 'Scopus to ORCID'},\n",
       "       'source-orcid': {'host': 'orcid.org',\n",
       "        'path': '0000-0002-5982-8983',\n",
       "        'uri': 'http://orcid.org/0000-0002-5982-8983'}},\n",
       "      'title': {'subtitle': None,\n",
       "       'title': {'value': 'A theoretical model of multi-regime convection in a stratocumulus-topped boundary layer'},\n",
       "       'translated-title': None},\n",
       "      'type': 'JOURNAL_ARTICLE',\n",
       "      'visibility': 'PUBLIC'}]},\n",
       "   {'identifiers': {'identifier': [{'external-identifier-id': '2-s2.0-0024794585',\n",
       "       'external-identifier-type': 'eid'}]},\n",
       "    'work-summary': [{'created-date': {'value': 1414175245474},\n",
       "      'display-index': '0',\n",
       "      'external-identifiers': {'work-external-identifier': [{'external-identifier-id': {'value': '2-s2.0-0024794585'},\n",
       "         'external-identifier-type': 'EID',\n",
       "         'external-identifier-url': {'value': ''},\n",
       "         'relationship': 'SELF'}]},\n",
       "      'last-modified-date': {'value': 1437662498264},\n",
       "      'path': '/0000-0001-5544-0976/work/14187128',\n",
       "      'publication-date': {'day': {'value': '00'},\n",
       "       'media-type': None,\n",
       "       'month': {'value': '00'},\n",
       "       'year': {'value': '1989'}},\n",
       "      'put-code': 14187128,\n",
       "      'source': {'source-client-id': None,\n",
       "       'source-name': {'value': 'Scopus to ORCID'},\n",
       "       'source-orcid': {'host': 'orcid.org',\n",
       "        'path': '0000-0002-5982-8983',\n",
       "        'uri': 'http://orcid.org/0000-0002-5982-8983'}},\n",
       "      'title': {'subtitle': None,\n",
       "       'title': {'value': 'A simple dynamical model of a stratocumulus-topped boundary layer'},\n",
       "       'translated-title': None},\n",
       "      'type': 'JOURNAL_ARTICLE',\n",
       "      'visibility': 'PUBLIC'}]},\n",
       "   {'identifiers': {'identifier': [{'external-identifier-id': '10.1007/3-540-17557-1_7',\n",
       "       'external-identifier-type': 'doi'}]},\n",
       "    'work-summary': [{'created-date': {'value': 1442332993099},\n",
       "      'display-index': '0',\n",
       "      'external-identifiers': {'work-external-identifier': [{'external-identifier-id': {'value': '10.1007/3-540-17557-1_7'},\n",
       "         'external-identifier-type': 'DOI',\n",
       "         'external-identifier-url': None,\n",
       "         'relationship': 'SELF'}]},\n",
       "      'last-modified-date': {'value': 1442332993099},\n",
       "      'path': '/0000-0001-5544-0976/work/18501464',\n",
       "      'publication-date': {'day': {'value': '00'},\n",
       "       'media-type': None,\n",
       "       'month': {'value': '00'},\n",
       "       'year': {'value': '1987'}},\n",
       "      'put-code': 18501464,\n",
       "      'source': {'source-client-id': None,\n",
       "       'source-name': {'value': 'CrossRef Metadata Search'},\n",
       "       'source-orcid': {'host': 'orcid.org',\n",
       "        'path': '0000-0002-3054-1567',\n",
       "        'uri': 'http://orcid.org/0000-0002-3054-1567'}},\n",
       "      'title': {'subtitle': None,\n",
       "       'title': {'value': 'The expected branching solution: Preferred wavelengths'},\n",
       "       'translated-title': None},\n",
       "      'type': 'OTHER',\n",
       "      'visibility': 'PUBLIC'}]}]}}"
      ]
     },
     "execution_count": 64,
     "metadata": {},
     "output_type": "execute_result"
    }
   ],
   "source": [
    "summary"
   ]
  },
  {
   "cell_type": "code",
   "execution_count": 65,
   "metadata": {
    "collapsed": false
   },
   "outputs": [],
   "source": [
    "employ = summary.get('employments').get('employment-summary')"
   ]
  },
  {
   "cell_type": "code",
   "execution_count": 66,
   "metadata": {
    "collapsed": false
   },
   "outputs": [
    {
     "name": "stdout",
     "output_type": "stream",
     "text": [
      "[{'created-date': {'value': 1414175023832},\n",
      "  'department-name': 'Department of Meteorology',\n",
      "  'end-date': {'day': None,\n",
      "               'month': {'value': '06'},\n",
      "               'year': {'value': '1999'}},\n",
      "  'last-modified-date': {'value': 1414175023832},\n",
      "  'organization': {'address': {'city': 'Tallahassee',\n",
      "                               'country': 'US',\n",
      "                               'region': 'FL'},\n",
      "                   'disambiguated-organization': {'disambiguated-organization-identifier': '7823',\n",
      "                                                  'disambiguation-source': 'RINGGOLD'},\n",
      "                   'name': 'Florida State University'},\n",
      "  'path': '/0000-0001-5544-0976/employment/540305',\n",
      "  'put-code': 540305,\n",
      "  'role-title': 'Computer Research Specialist',\n",
      "  'source': {'source-client-id': None,\n",
      "             'source-name': {'value': 'Mark Laufersweiler'},\n",
      "             'source-orcid': {'host': 'orcid.org',\n",
      "                              'path': '0000-0001-5544-0976',\n",
      "                              'uri': 'http://orcid.org/0000-0001-5544-0976'}},\n",
      "  'start-date': {'day': None,\n",
      "                 'month': {'value': '02'},\n",
      "                 'year': {'value': '1996'}},\n",
      "  'visibility': 'PUBLIC'},\n",
      " {'created-date': {'value': 1414174919768},\n",
      "  'department-name': 'Regional Atmospheric Sciences Division',\n",
      "  'end-date': {'day': None,\n",
      "               'month': {'value': '02'},\n",
      "               'year': {'value': '1996'}},\n",
      "  'last-modified-date': {'value': 1414174919768},\n",
      "  'organization': {'address': {'city': 'Livermore',\n",
      "                               'country': 'US',\n",
      "                               'region': 'CA'},\n",
      "                   'disambiguated-organization': {'disambiguated-organization-identifier': '4578',\n",
      "                                                  'disambiguation-source': 'RINGGOLD'},\n",
      "                   'name': 'Lawrence Livermore National Laboratory'},\n",
      "  'path': '/0000-0001-5544-0976/employment/540303',\n",
      "  'put-code': 540303,\n",
      "  'role-title': 'Atmospheric Radiation Measurement/Post-Doctorate ',\n",
      "  'source': {'source-client-id': None,\n",
      "             'source-name': {'value': 'Mark Laufersweiler'},\n",
      "             'source-orcid': {'host': 'orcid.org',\n",
      "                              'path': '0000-0001-5544-0976',\n",
      "                              'uri': 'http://orcid.org/0000-0001-5544-0976'}},\n",
      "  'start-date': {'day': None,\n",
      "                 'month': {'value': '07'},\n",
      "                 'year': {'value': '1994'}},\n",
      "  'visibility': 'PUBLIC'},\n",
      " {'created-date': {'value': 1407258430572},\n",
      "  'department-name': 'School of Meteorology',\n",
      "  'end-date': {'day': None,\n",
      "               'month': {'value': '09'},\n",
      "               'year': {'value': '2013'}},\n",
      "  'last-modified-date': {'value': 1407258430572},\n",
      "  'organization': {'address': {'city': 'Norman',\n",
      "                               'country': 'US',\n",
      "                               'region': 'OK'},\n",
      "                   'disambiguated-organization': {'disambiguated-organization-identifier': '6187',\n",
      "                                                  'disambiguation-source': 'RINGGOLD'},\n",
      "                   'name': 'University of Oklahoma'},\n",
      "  'path': '/0000-0001-5544-0976/employment/389355',\n",
      "  'put-code': 389355,\n",
      "  'role-title': 'Computer Systems Coordinator',\n",
      "  'source': {'source-client-id': None,\n",
      "             'source-name': {'value': 'Mark Laufersweiler'},\n",
      "             'source-orcid': {'host': 'orcid.org',\n",
      "                              'path': '0000-0001-5544-0976',\n",
      "                              'uri': 'http://orcid.org/0000-0001-5544-0976'}},\n",
      "  'start-date': {'day': None,\n",
      "                 'month': {'value': '07'},\n",
      "                 'year': {'value': '1999'}},\n",
      "  'visibility': 'PUBLIC'},\n",
      " {'created-date': {'value': 1407258554933},\n",
      "  'department-name': 'OU Libraries',\n",
      "  'end-date': None,\n",
      "  'last-modified-date': {'value': 1407258554933},\n",
      "  'organization': {'address': {'city': 'Norman',\n",
      "                               'country': 'US',\n",
      "                               'region': 'OK'},\n",
      "                   'disambiguated-organization': {'disambiguated-organization-identifier': '6187',\n",
      "                                                  'disambiguation-source': 'RINGGOLD'},\n",
      "                   'name': 'University of Oklahoma'},\n",
      "  'path': '/0000-0001-5544-0976/employment/389358',\n",
      "  'put-code': 389358,\n",
      "  'role-title': 'Research Data Specialist',\n",
      "  'source': {'source-client-id': None,\n",
      "             'source-name': {'value': 'Mark Laufersweiler'},\n",
      "             'source-orcid': {'host': 'orcid.org',\n",
      "                              'path': '0000-0001-5544-0976',\n",
      "                              'uri': 'http://orcid.org/0000-0001-5544-0976'}},\n",
      "  'start-date': {'day': None,\n",
      "                 'month': {'value': '10'},\n",
      "                 'year': {'value': '2013'}},\n",
      "  'visibility': 'PUBLIC'}]\n"
     ]
    }
   ],
   "source": [
    "pprint.pprint(employ)"
   ]
  },
  {
   "cell_type": "code",
   "execution_count": 67,
   "metadata": {
    "collapsed": false
   },
   "outputs": [],
   "source": [
    "id.setdefault(theid,[]).append(fname + ' ' + lname)\n",
    "dict.setdefault('name',[]).append(id)"
   ]
  },
  {
   "cell_type": "code",
   "execution_count": null,
   "metadata": {
    "collapsed": true
   },
   "outputs": [],
   "source": []
  },
  {
   "cell_type": "code",
   "execution_count": null,
   "metadata": {
    "collapsed": true
   },
   "outputs": [],
   "source": []
  },
  {
   "cell_type": "code",
   "execution_count": null,
   "metadata": {
    "collapsed": true
   },
   "outputs": [],
   "source": []
  },
  {
   "cell_type": "code",
   "execution_count": null,
   "metadata": {
    "collapsed": true
   },
   "outputs": [],
   "source": []
  },
  {
   "cell_type": "code",
   "execution_count": null,
   "metadata": {
    "collapsed": true
   },
   "outputs": [],
   "source": []
  },
  {
   "cell_type": "code",
   "execution_count": null,
   "metadata": {
    "collapsed": true
   },
   "outputs": [],
   "source": []
  },
  {
   "cell_type": "code",
   "execution_count": 123,
   "metadata": {
    "collapsed": false
   },
   "outputs": [],
   "source": [
    "import pprint\n",
    "import orcid\n",
    "import time\n",
    "from requests import RequestException\n",
    "\n",
    "def search_persons(ringgoldid, place):\n",
    "    api = orcid.PublicAPI()\n",
    "    persons = {}\n",
    "    who = {}\n",
    "    counter = 1\n",
    "    person_counter = 0\n",
    "    row = 20\n",
    "    maxsearch = 5\n",
    "    \n",
    "    for step in range(0, maxsearch, row):\n",
    "        print (step, row)\n",
    "        try:\n",
    "            university = api.search_public('%s %s' % (ringgoldid, place), start=str(step), rows=row)\n",
    "            for result in university.get('orcid-search-results').get('orcid-search-result'):\n",
    "                orcid_id = result.get('orcid-profile').get('orcid-identifier').get('path')\n",
    "                fname = result.get('orcid-profile').get('orcid-bio').get('personal-details').get('given-names').get('value')\n",
    "                lname = result.get('orcid-profile').get('orcid-bio').get('personal-details').get('family-name').get('value')\n",
    "                who.setdefault(orcid_id, []).append(fname + ' ' + lname )\n",
    "                print (orcid_id +  \" \" + fname + ' ' + lname)\n",
    "                try:\n",
    "                    summary = api.read_record_public(orcid_id, 'activities')\n",
    "                    try:\n",
    "                        for employment in summary.get('employments').get('employment-summary'):\n",
    "                            if employment.get('organization').get('disambiguated-organization').get('disambiguated-organization-identifier') == ringgoldid:\n",
    "                                if not employment.get('end-date'):\n",
    "                                    \n",
    "                                    persons.setdefault(orcid_id, {}).setdefault((fname + ' ' + lname), []).append(employment.get('department-name'))\n",
    "                                    \n",
    "                                    #persons.setdefault(employment.get('department-name'), {}).setdefault(orcid_id, []).append(fname + ' ' + lname)\n",
    "                                    #persons.setdefault(employment.get('department-name'), []).append(orcid_id)\n",
    "                                    person_counter += 1\n",
    "                    except AttributeError:\n",
    "                        pass\n",
    "                except RequestException as e:\n",
    "                    print (e.response.text)\n",
    "                print ('Processing record %d' % counter)\n",
    "                counter += 1\n",
    "            # print (person_counter)\n",
    "            # pprint.pprint(persons)\n",
    "        except RequestException as e:\n",
    "            print (e.response.text)\n",
    "        time.sleep(3)\n",
    "        return persons\n",
    "\n",
    "    \n",
    "    print (person_counter)\n",
    "    pprint.pprint(persons)\n",
    "\n",
    "# search_persons('9142', 'Bochum')\n",
    "# search_persons('14311', 'Dortmund')\n"
   ]
  },
  {
   "cell_type": "code",
   "execution_count": 125,
   "metadata": {
    "collapsed": false
   },
   "outputs": [
    {
     "name": "stdout",
     "output_type": "stream",
     "text": [
      "0 20\n",
      "0000-0002-6614-8564 Keith Brewster\n",
      "Processing record 1\n",
      "0000-0001-9835-113X Sean Arms\n",
      "Processing record 2\n",
      "0000-0003-0703-3801 Eric Johnson\n",
      "Processing record 3\n",
      "0000-0002-2173-8851 Andrew Kierig\n",
      "Processing record 4\n",
      "0000-0001-7715-2836 Elizabeth Knapp\n",
      "Processing record 5\n",
      "0000-0001-7791-9750 Tao Zhao\n",
      "Processing record 6\n",
      "0000-0002-8066-7643 Derrell Cox II\n",
      "Processing record 7\n",
      "0000-0003-4424-4923 Sylwester Ratowt\n",
      "Processing record 8\n",
      "0000-0002-9505-9069 Bruce Hoagland\n",
      "Processing record 9\n",
      "0000-0002-8323-4894 Daniel Curtis\n",
      "Processing record 10\n",
      "0000-0001-6599-6054 Leslie Sadler\n",
      "Processing record 11\n",
      "0000-0002-5418-121X Meta G Carstarphen\n",
      "Processing record 12\n",
      "0000-0002-3313-6284 William Taylor\n",
      "Processing record 13\n",
      "0000-0002-6857-919X Rachel Jones-Summan\n",
      "Processing record 14\n",
      "0000-0003-4969-5600 Jessica Fesler\n",
      "Processing record 15\n",
      "0000-0002-1998-3532 Tara Malone\n",
      "Processing record 16\n",
      "0000-0002-1453-3866 Tyler Haas\n",
      "Processing record 17\n",
      "0000-0003-1566-542X Logan Cox\n",
      "Processing record 18\n",
      "0000-0002-4528-5391 Henry Neeman\n",
      "Processing record 19\n",
      "0000-0003-1158-3590 Chen Wu\n",
      "Processing record 20\n"
     ]
    }
   ],
   "source": [
    "tester = search_persons ('6187', 'University of Oklahoma')"
   ]
  },
  {
   "cell_type": "code",
   "execution_count": 127,
   "metadata": {
    "collapsed": false
   },
   "outputs": [
    {
     "data": {
      "text/plain": [
       "9"
      ]
     },
     "execution_count": 127,
     "metadata": {},
     "output_type": "execute_result"
    }
   ],
   "source": [
    "len (tester)"
   ]
  },
  {
   "cell_type": "code",
   "execution_count": 108,
   "metadata": {
    "collapsed": false
   },
   "outputs": [],
   "source": [
    "dict = {}\n",
    "dict.setdefault('a', {}).setdefault('b', []).append('mark')"
   ]
  },
  {
   "cell_type": "code",
   "execution_count": 109,
   "metadata": {
    "collapsed": false
   },
   "outputs": [
    {
     "data": {
      "text/plain": [
       "{'a': {'b': ['mark']}}"
      ]
     },
     "execution_count": 109,
     "metadata": {},
     "output_type": "execute_result"
    }
   ],
   "source": [
    "dict"
   ]
  },
  {
   "cell_type": "code",
   "execution_count": null,
   "metadata": {
    "collapsed": true
   },
   "outputs": [],
   "source": []
  }
 ],
 "metadata": {
  "kernelspec": {
   "display_name": "Python 3",
   "language": "python",
   "name": "python3"
  },
  "language_info": {
   "codemirror_mode": {
    "name": "ipython",
    "version": 3
   },
   "file_extension": ".py",
   "mimetype": "text/x-python",
   "name": "python",
   "nbconvert_exporter": "python",
   "pygments_lexer": "ipython3",
   "version": "3.4.3"
  }
 },
 "nbformat": 4,
 "nbformat_minor": 0
}
