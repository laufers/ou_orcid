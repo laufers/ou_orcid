{
 "cells": [
  {
   "cell_type": "code",
   "execution_count": 1,
   "metadata": {
    "collapsed": true
   },
   "outputs": [],
   "source": [
    "import pprint\n",
    "import orcid\n",
    "from requests import RequestException"
   ]
  },
  {
   "cell_type": "code",
   "execution_count": 2,
   "metadata": {
    "collapsed": false
   },
   "outputs": [],
   "source": [
    "api = orcid.PublicAPI()"
   ]
  },
  {
   "cell_type": "code",
   "execution_count": 9,
   "metadata": {
    "collapsed": true
   },
   "outputs": [],
   "source": [
    "ringgoldid= '6187'\n",
    "place = \"Oklahoma\""
   ]
  },
  {
   "cell_type": "code",
   "execution_count": null,
   "metadata": {
    "collapsed": false
   },
   "outputs": [],
   "source": [
    "university = api.search_public('%s %s' % (ringgoldid, place), rows=10)"
   ]
  },
  {
   "cell_type": "code",
   "execution_count": null,
   "metadata": {
    "collapsed": false
   },
   "outputs": [],
   "source": [
    "university"
   ]
  },
  {
   "cell_type": "code",
   "execution_count": 3,
   "metadata": {
    "collapsed": false
   },
   "outputs": [],
   "source": [
    "ringgoldid= '6187'\n",
    "place='University of Oklahoma'"
   ]
  },
  {
   "cell_type": "code",
   "execution_count": null,
   "metadata": {
    "collapsed": false
   },
   "outputs": [],
   "source": [
    "results = university.get('orcid-search-results').get('orcid-search-result')"
   ]
  },
  {
   "cell_type": "code",
   "execution_count": null,
   "metadata": {
    "collapsed": false
   },
   "outputs": [],
   "source": [
    "result = results[0]"
   ]
  },
  {
   "cell_type": "code",
   "execution_count": null,
   "metadata": {
    "collapsed": false
   },
   "outputs": [],
   "source": [
    "result"
   ]
  },
  {
   "cell_type": "code",
   "execution_count": null,
   "metadata": {
    "collapsed": false
   },
   "outputs": [],
   "source": [
    "theid = result.get('orcid-profile').get('orcid-identifier').get('path')\n",
    "print (theid)\n",
    "fname = result.get('orcid-profile').get('orcid-bio').get('personal-details').get('given-names').get('value')\n",
    "print (fname)\n",
    "lname = result.get('orcid-profile').get('orcid-bio').get('personal-details').get('family-name').get('value')\n",
    "print (lname)"
   ]
  },
  {
   "cell_type": "code",
   "execution_count": null,
   "metadata": {
    "collapsed": false
   },
   "outputs": [],
   "source": [
    "fname = result.get('orcid-profile').get('orcid-bio').get('personal-details').get('given-names').get('value')\n",
    "print (fname)"
   ]
  },
  {
   "cell_type": "code",
   "execution_count": null,
   "metadata": {
    "collapsed": false
   },
   "outputs": [],
   "source": [
    "type(fname)"
   ]
  },
  {
   "cell_type": "code",
   "execution_count": null,
   "metadata": {
    "collapsed": false
   },
   "outputs": [],
   "source": [
    "for key in result:\n",
    "    print (key)\n"
   ]
  },
  {
   "cell_type": "code",
   "execution_count": null,
   "metadata": {
    "collapsed": false
   },
   "outputs": [],
   "source": [
    "import pprint\n",
    "pprint.pprint(result.keys())"
   ]
  },
  {
   "cell_type": "code",
   "execution_count": null,
   "metadata": {
    "collapsed": false
   },
   "outputs": [],
   "source": [
    "r = (result['orcid-profile'])"
   ]
  },
  {
   "cell_type": "code",
   "execution_count": null,
   "metadata": {
    "collapsed": false
   },
   "outputs": [],
   "source": [
    "pprint.pprint(r.keys())"
   ]
  },
  {
   "cell_type": "code",
   "execution_count": null,
   "metadata": {
    "collapsed": false
   },
   "outputs": [],
   "source": [
    "theid = '0000-0001-5544-0976'\n",
    "summary = api.read_record_public(theid, 'activities')"
   ]
  },
  {
   "cell_type": "code",
   "execution_count": null,
   "metadata": {
    "collapsed": false
   },
   "outputs": [],
   "source": [
    "summary"
   ]
  },
  {
   "cell_type": "code",
   "execution_count": null,
   "metadata": {
    "collapsed": false
   },
   "outputs": [],
   "source": [
    "employ = summary.get('employments').get('employment-summary')"
   ]
  },
  {
   "cell_type": "code",
   "execution_count": null,
   "metadata": {
    "collapsed": false
   },
   "outputs": [],
   "source": [
    "pprint.pprint(employ)"
   ]
  },
  {
   "cell_type": "code",
   "execution_count": null,
   "metadata": {
    "collapsed": false
   },
   "outputs": [],
   "source": [
    "id = {}\n",
    "d = {}\n",
    "id.setdefault(theid,[]).append(fname + ' ' + lname)\n",
    "d.setdefault('name',[]).append(id)"
   ]
  },
  {
   "cell_type": "code",
   "execution_count": null,
   "metadata": {
    "collapsed": true
   },
   "outputs": [],
   "source": []
  },
  {
   "cell_type": "code",
   "execution_count": null,
   "metadata": {
    "collapsed": true
   },
   "outputs": [],
   "source": []
  },
  {
   "cell_type": "code",
   "execution_count": null,
   "metadata": {
    "collapsed": true
   },
   "outputs": [],
   "source": []
  },
  {
   "cell_type": "code",
   "execution_count": null,
   "metadata": {
    "collapsed": true
   },
   "outputs": [],
   "source": []
  },
  {
   "cell_type": "code",
   "execution_count": null,
   "metadata": {
    "collapsed": true
   },
   "outputs": [],
   "source": []
  },
  {
   "cell_type": "code",
   "execution_count": null,
   "metadata": {
    "collapsed": true
   },
   "outputs": [],
   "source": []
  },
  {
   "cell_type": "code",
   "execution_count": null,
   "metadata": {
    "collapsed": false
   },
   "outputs": [],
   "source": [
    "import pprint\n",
    "import orcid\n",
    "import time\n",
    "from requests import RequestException\n",
    "\n",
    "def search_persons(ringgoldid, place):\n",
    "    api = orcid.PublicAPI()\n",
    "    persons = {}\n",
    "    counter = 1\n",
    "    row = 20\n",
    "    total_records = api.search_public('%s %s' % (ringgoldid, place))['orcid-search-results']['num-found']\n",
    "    print ('The total number of entries matching', ringgoldid, 'and', place, 'is', total_records)\n",
    "    total_records = 20\n",
    "\n",
    "    # define log entries\n",
    "    tmpl = '%s\\t%s\\t%s\\n'\n",
    "\n",
    "    for step in range(0, total_records, row):\n",
    "        try:\n",
    "            university = api.search_public('%s %s' % (ringgoldid, place), start=str(step), rows=row)\n",
    "            for result in university.get('orcid-search-results').get('orcid-search-result'):\n",
    "                orcid_id = result.get('orcid-profile').get('orcid-identifier').get('path')\n",
    "              #  request_log.write(tmpl % (datetime.isoformat(datetime.now()), counter, orcid_id))\n",
    "                \n",
    "                try:\n",
    "                    fname = result.get('orcid-profile').get('orcid-bio').get('personal-details').get('given-names').get('value')\n",
    "                except:\n",
    "                    fname = ''\n",
    "                try:\n",
    "                    lname = result.get('orcid-profile').get('orcid-bio').get('personal-details').get('family-name').get('value')\n",
    "                except:\n",
    "                    lname = ''\n",
    "                \n",
    "                try:\n",
    "                    summary = api.read_record_public(orcid_id, 'activities')\n",
    "                    try:\n",
    "                        for employment in summary.get('employments').get('employment-summary'):\n",
    "                            if employment.get('organization').get('disambiguated-organization').get('disambiguated-organization-identifier') == ringgoldid:\n",
    "                                if not employment.get('end-date'):\n",
    "                                    persons.setdefault(orcid_id, {}).setdefault((fname + ' ' + lname), []).append(employment.get('department-name'))\n",
    "                                request_log.write(tmpl % (datetime.isoformat(datetime.now()), counter, orcid_id))\n",
    "\n",
    "                    except AttributeError:\n",
    "                        pass\n",
    "                except RequestException as e:\n",
    "                    print (e.response.text)\n",
    "                #print ('Processing record %d' % counter)\n",
    "                counter += 1\n",
    "            # pprint.pprint(persons)\n",
    "        except RequestException as e:\n",
    "            print (e.response.text)\n",
    "        #time.sleep(3)\n",
    "    return persons\n",
    "\n",
    "# Start program run here\n",
    "# define log file\n",
    "import os\n",
    "from datetime import datetime\n",
    "if not os.path.exists('output'):\n",
    "\tos.makedirs('output')\n",
    "    \n",
    "# log \n",
    "request_log = open('output/orcid.log', 'w')\n",
    "request_log.write('Timestamp\\t\\t\\tstep\\tORCID\\n')"
   ]
  },
  {
   "cell_type": "code",
   "execution_count": 12,
   "metadata": {
    "collapsed": false
   },
   "outputs": [
    {
     "name": "stdout",
     "output_type": "stream",
     "text": [
      "6187\n",
      "554\n",
      "919\n",
      "506126\n",
      "316082\n",
      "468671\n",
      "316015\n",
      "506116\n",
      "506116\n",
      "1066\n"
     ]
    }
   ],
   "source": [
    "print (ringgoldid)\n",
    "print (api.search_public('6197' )['orcid-search-results']['num-found'])\n",
    "print (api.search_public('%s' % (ringgoldid))['orcid-search-results']['num-found'])\n",
    "print (api.search_public('University of Oklahoma' )['orcid-search-results']['num-found'])\n",
    "print (api.search_public('Oklahoma University')['orcid-search-results']['num-found'])\n",
    "print (api.search_public('6197' 'University of Oklahoma' )['orcid-search-results']['num-found'])\n",
    "print (api.search_public('6197' 'Oklahoma University' )['orcid-search-results']['num-found'])\n",
    "print (api.search_public('University of Oklahoma' 'Oklahoma University')['orcid-search-results']['num-found'])\n",
    "print (api.search_public('6197' 'University of Oklahoma' 'Oklahoma University')['orcid-search-results']['num-found'])\n",
    "print (api.search_public('Oklahoma')['orcid-search-results']['num-found'])"
   ]
  },
  {
   "cell_type": "code",
   "execution_count": 13,
   "metadata": {
    "collapsed": false
   },
   "outputs": [
    {
     "ename": "SyntaxError",
     "evalue": "unexpected EOF while parsing (<ipython-input-13-bff000565714>, line 1)",
     "output_type": "error",
     "traceback": [
      "\u001b[0;36m  File \u001b[0;32m\"<ipython-input-13-bff000565714>\"\u001b[0;36m, line \u001b[0;32m1\u001b[0m\n\u001b[0;31m    print(api.search_public('University of Oklahoma')\u001b[0m\n\u001b[0m                                                     ^\u001b[0m\n\u001b[0;31mSyntaxError\u001b[0m\u001b[0;31m:\u001b[0m unexpected EOF while parsing\n"
     ]
    }
   ],
   "source": [
    "print(api.search_public('University of Oklahoma')\n"
   ]
  },
  {
   "cell_type": "code",
   "execution_count": null,
   "metadata": {
    "collapsed": true
   },
   "outputs": [],
   "source": [
    "api.search_public?"
   ]
  },
  {
   "cell_type": "code",
   "execution_count": null,
   "metadata": {
    "collapsed": false
   },
   "outputs": [],
   "source": [
    "tester = search_persons ('6187', 'Oklahoma University')"
   ]
  },
  {
   "cell_type": "code",
   "execution_count": null,
   "metadata": {
    "collapsed": false
   },
   "outputs": [],
   "source": [
    "len (tester)"
   ]
  },
  {
   "cell_type": "code",
   "execution_count": null,
   "metadata": {
    "collapsed": false
   },
   "outputs": [],
   "source": [
    "tester.items()"
   ]
  },
  {
   "cell_type": "markdown",
   "metadata": {},
   "source": [
    "### Working on csv output of results"
   ]
  },
  {
   "cell_type": "code",
   "execution_count": null,
   "metadata": {
    "collapsed": false
   },
   "outputs": [],
   "source": [
    "import csv"
   ]
  },
  {
   "cell_type": "code",
   "execution_count": null,
   "metadata": {
    "collapsed": false
   },
   "outputs": [],
   "source": [
    "for key1, value1 in tester.items():\n",
    "    for key2, value2 in value1.items():\n",
    "        print (key1)\n",
    "        print (key2)\n",
    "        print (value2)\n",
    "    "
   ]
  },
  {
   "cell_type": "code",
   "execution_count": null,
   "metadata": {
    "collapsed": true
   },
   "outputs": [],
   "source": [
    "keys1 = tester.keys()"
   ]
  },
  {
   "cell_type": "code",
   "execution_count": null,
   "metadata": {
    "collapsed": false
   },
   "outputs": [],
   "source": [
    "keys1"
   ]
  },
  {
   "cell_type": "code",
   "execution_count": null,
   "metadata": {
    "collapsed": false
   },
   "outputs": [],
   "source": [
    "keys2 = tester.values"
   ]
  },
  {
   "cell_type": "code",
   "execution_count": null,
   "metadata": {
    "collapsed": false
   },
   "outputs": [],
   "source": [
    "c = tester.items()"
   ]
  },
  {
   "cell_type": "code",
   "execution_count": null,
   "metadata": {
    "collapsed": false
   },
   "outputs": [],
   "source": [
    "for c in tester.values():\n",
    "    print (c)"
   ]
  },
  {
   "cell_type": "code",
   "execution_count": null,
   "metadata": {
    "collapsed": true
   },
   "outputs": [],
   "source": []
  },
  {
   "cell_type": "code",
   "execution_count": null,
   "metadata": {
    "collapsed": false
   },
   "outputs": [],
   "source": [
    "with open ('output/ou_orcid.csv', 'w', newline='') as fileout:\n",
    "    peoplewriter = csv.writer(fileout, delimiter=',')\n",
    "    for key1, value1 in tester.items():\n",
    "        for key2, value2 in value1.items():\n",
    "            row = (str(key1), str(key2), value2)\n",
    "            peoplewriter.writerow(row)\n",
    "fileout.close()"
   ]
  },
  {
   "cell_type": "code",
   "execution_count": null,
   "metadata": {
    "collapsed": true
   },
   "outputs": [],
   "source": []
  },
  {
   "cell_type": "markdown",
   "metadata": {},
   "source": [
    "### Methods for recursively moving through a nested dictionary"
   ]
  },
  {
   "cell_type": "code",
   "execution_count": null,
   "metadata": {
    "collapsed": true
   },
   "outputs": [],
   "source": [
    "def myprint(d):\n",
    "    stack = list(d.items())\n",
    "    while stack:\n",
    "        k, v = stack.pop()\n",
    "        if isinstance(v, dict):\n",
    "            stack.extend(v.items())\n",
    "        else:\n",
    "            print(\"%s: %s\" % (k, v))"
   ]
  },
  {
   "cell_type": "code",
   "execution_count": null,
   "metadata": {
    "collapsed": false
   },
   "outputs": [],
   "source": [
    "myprint(tester)"
   ]
  },
  {
   "cell_type": "code",
   "execution_count": null,
   "metadata": {
    "collapsed": false
   },
   "outputs": [],
   "source": [
    "tester"
   ]
  },
  {
   "cell_type": "code",
   "execution_count": null,
   "metadata": {
    "collapsed": false
   },
   "outputs": [],
   "source": [
    "d = {\n",
    "'key_1': 'value_1',\n",
    "'key_2': {'key_21': [(2100, 2101), (2110, 2111)],\n",
    "      'key_22': ['l1', 'l2'],\n",
    "      'key_23': {'key_231': 'v'},\n",
    "      'key_24': {'key_241': 502,\n",
    "             'key_242': [(5, 0), (7, 0)],\n",
    "             'key_243': {'key_2431': [0, 0],\n",
    "                 'key_2432': 504,\n",
    "                 'key_2433': [(11451, 0), (11452, 0)]\n",
    "                },\n",
    "             'key_244': {'key_2441': {'key_24411': {'key_244111': 'v_24411',\n",
    "                                'key_244112': [(5549, 0)]\n",
    "                               },\n",
    "                          'key_24412':'v_24412'\n",
    "                         },\n",
    "                 'key_2441': ['ll1', 'll2']\n",
    "                }\n",
    "            },\n",
    "     }\n",
    "}"
   ]
  },
  {
   "cell_type": "code",
   "execution_count": null,
   "metadata": {
    "collapsed": false
   },
   "outputs": [],
   "source": [
    "myprint(d)"
   ]
  },
  {
   "cell_type": "code",
   "execution_count": null,
   "metadata": {
    "collapsed": false
   },
   "outputs": [],
   "source": [
    "def recurse(d, keys=()):\n",
    "    if type(d) == dict:\n",
    "         for k in d:\n",
    "            for rv in recurse(d[k], keys + (k, )):\n",
    "                yield rv\n",
    "    else:\n",
    "        yield (keys, d)\n",
    "        \n",
    "for compound_key, val in recurse(d):\n",
    "    print ('{}: {}'.format(compound_key, val))"
   ]
  },
  {
   "cell_type": "code",
   "execution_count": null,
   "metadata": {
    "collapsed": false
   },
   "outputs": [],
   "source": [
    "for ids, val in recurse(tester):\n",
    "    # print (ids, val)\n",
    "    print ('\\n')\n",
    "    print ([ j for j in ids] +  [k for k in val])"
   ]
  },
  {
   "cell_type": "code",
   "execution_count": null,
   "metadata": {
    "collapsed": false
   },
   "outputs": [],
   "source": [
    "ids[0]"
   ]
  },
  {
   "cell_type": "code",
   "execution_count": null,
   "metadata": {
    "collapsed": false
   },
   "outputs": [],
   "source": [
    "for j in ids:\n",
    "    print (j)"
   ]
  },
  {
   "cell_type": "code",
   "execution_count": null,
   "metadata": {
    "collapsed": true
   },
   "outputs": [],
   "source": []
  },
  {
   "cell_type": "code",
   "execution_count": null,
   "metadata": {
    "collapsed": true
   },
   "outputs": [],
   "source": [
    "from datetime import datetime\n"
   ]
  },
  {
   "cell_type": "code",
   "execution_count": null,
   "metadata": {
    "collapsed": false
   },
   "outputs": [],
   "source": [
    "datetime.isoformat(datetime.now())"
   ]
  },
  {
   "cell_type": "code",
   "execution_count": null,
   "metadata": {
    "collapsed": false
   },
   "outputs": [],
   "source": [
    "datetime.isoformat?"
   ]
  },
  {
   "cell_type": "code",
   "execution_count": null,
   "metadata": {
    "collapsed": true
   },
   "outputs": [],
   "source": []
  }
 ],
 "metadata": {
  "kernelspec": {
   "display_name": "Python 3",
   "language": "python",
   "name": "python3"
  },
  "language_info": {
   "codemirror_mode": {
    "name": "ipython",
    "version": 3
   },
   "file_extension": ".py",
   "mimetype": "text/x-python",
   "name": "python",
   "nbconvert_exporter": "python",
   "pygments_lexer": "ipython3",
   "version": "3.4.3"
  }
 },
 "nbformat": 4,
 "nbformat_minor": 0
}
